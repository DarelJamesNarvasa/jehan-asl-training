{
 "nbformat": 4,
 "nbformat_minor": 0,
 "metadata": {
  "kernelspec": {
   "display_name": "Python 3",
   "language": "python",
   "name": "python3"
  },
  "language_info": {
   "codemirror_mode": {
    "name": "ipython",
    "version": 3
   },
   "file_extension": ".py",
   "mimetype": "text/x-python",
   "name": "python",
   "nbconvert_exporter": "python",
   "pygments_lexer": "ipython3",
   "version": "3.8.5"
  },
  "colab": {
   "name": "keypoint_classification_EN.ipynb",
   "provenance": [],
   "collapsed_sections": [],
   "toc_visible": true
  },
  "accelerator": "GPU"
 },
 "cells": [
  {
   "cell_type": "markdown",
   "metadata": {
    "id": "t2HDvhIu9hEr"
   },
   "source": [
    "# Specify each path"
   ]
  },
  {
   "metadata": {
    "id": "igMyGnjE9hEp",
    "ExecuteTime": {
     "end_time": "2025-02-09T09:26:05.686128Z",
     "start_time": "2025-02-09T09:26:05.674884Z"
    }
   },
   "cell_type": "code",
   "source": [
    "import csv\n",
    "\n",
    "import numpy as np\n",
    "import tensorflow as tf\n",
    "from sklearn.model_selection import train_test_split\n",
    "\n",
    "RANDOM_SEED = 42"
   ],
   "outputs": [],
   "execution_count": 598
  },
  {
   "cell_type": "code",
   "metadata": {
    "id": "9NvZP2Zn9hEy",
    "ExecuteTime": {
     "end_time": "2025-02-09T09:26:05.704125Z",
     "start_time": "2025-02-09T09:26:05.699202Z"
    }
   },
   "source": [
    "dataset = 'model/keypoint_classifier/keypoint.csv'\n",
    "model_save_path = 'model/keypoint_classifier/keypoint_classifier.hdf5'\n",
    "tflite_save_path = 'model/keypoint_classifier/keypoint_classifier.tflite'"
   ],
   "outputs": [],
   "execution_count": 599
  },
  {
   "cell_type": "markdown",
   "metadata": {
    "id": "s5oMH7x19hEz"
   },
   "source": [
    "# Set number of classes"
   ]
  },
  {
   "cell_type": "code",
   "metadata": {
    "id": "du4kodXL9hEz",
    "ExecuteTime": {
     "end_time": "2025-02-09T09:26:05.718126Z",
     "start_time": "2025-02-09T09:26:05.714544Z"
    }
   },
   "source": "NUM_CLASSES = 26",
   "outputs": [],
   "execution_count": 600
  },
  {
   "cell_type": "markdown",
   "metadata": {
    "id": "XjnL0uso9hEz"
   },
   "source": [
    "# Dataset reading"
   ]
  },
  {
   "cell_type": "code",
   "metadata": {
    "id": "QT5ZqtEz9hE0",
    "ExecuteTime": {
     "end_time": "2025-02-09T09:26:05.872467Z",
     "start_time": "2025-02-09T09:26:05.726241Z"
    }
   },
   "source": [
    "X_dataset = np.loadtxt(dataset, delimiter=',', dtype='float32', usecols=list(range(1, (21 * 2) + 1)))"
   ],
   "outputs": [],
   "execution_count": 601
  },
  {
   "cell_type": "code",
   "metadata": {
    "id": "QmoKFsp49hE0",
    "ExecuteTime": {
     "end_time": "2025-02-09T09:26:05.951813Z",
     "start_time": "2025-02-09T09:26:05.882724Z"
    }
   },
   "source": [
    "y_dataset = np.loadtxt(dataset, delimiter=',', dtype='int32', usecols=(0))"
   ],
   "outputs": [],
   "execution_count": 602
  },
  {
   "cell_type": "code",
   "metadata": {
    "id": "xQU7JTZ_9hE0",
    "ExecuteTime": {
     "end_time": "2025-02-09T09:26:05.967652Z",
     "start_time": "2025-02-09T09:26:05.960023Z"
    }
   },
   "source": [
    "X_train, X_test, y_train, y_test = train_test_split(X_dataset, y_dataset, train_size=0.75, random_state=RANDOM_SEED)"
   ],
   "outputs": [],
   "execution_count": 603
  },
  {
   "cell_type": "markdown",
   "metadata": {
    "id": "mxK_lETT9hE0"
   },
   "source": [
    "# Model building"
   ]
  },
  {
   "cell_type": "code",
   "metadata": {
    "id": "vHBmUf1t9hE1",
    "ExecuteTime": {
     "end_time": "2025-02-09T09:26:05.995364Z",
     "start_time": "2025-02-09T09:26:05.975382Z"
    }
   },
   "source": [
    "model = tf.keras.models.Sequential([\n",
    "    tf.keras.layers.Input((21 * 2, )),\n",
    "    tf.keras.layers.Dropout(0.2),\n",
    "    tf.keras.layers.Dense(20, activation='relu'),\n",
    "    tf.keras.layers.Dropout(0.4),\n",
    "    tf.keras.layers.Dense(10, activation='relu'),\n",
    "    tf.keras.layers.Dense(NUM_CLASSES, activation='softmax')\n",
    "])"
   ],
   "outputs": [],
   "execution_count": 604
  },
  {
   "cell_type": "code",
   "metadata": {
    "id": "ypqky9tc9hE1",
    "colab": {
     "base_uri": "https://localhost:8080/"
    },
    "outputId": "5db082bb-30e3-4110-bf63-a1ee777ecd46",
    "ExecuteTime": {
     "end_time": "2025-02-09T09:26:06.016630Z",
     "start_time": "2025-02-09T09:26:06.005876Z"
    }
   },
   "source": [
    "model.summary()  # tf.keras.utils.plot_model(model, show_shapes=True)"
   ],
   "outputs": [
    {
     "data": {
      "text/plain": [
       "\u001B[1mModel: \"sequential_27\"\u001B[0m\n"
      ],
      "text/html": [
       "<pre style=\"white-space:pre;overflow-x:auto;line-height:normal;font-family:Menlo,'DejaVu Sans Mono',consolas,'Courier New',monospace\"><span style=\"font-weight: bold\">Model: \"sequential_27\"</span>\n",
       "</pre>\n"
      ]
     },
     "metadata": {},
     "output_type": "display_data"
    },
    {
     "data": {
      "text/plain": [
       "┏━━━━━━━━━━━━━━━━━━━━━━━━━━━━━━━━━┳━━━━━━━━━━━━━━━━━━━━━━━━┳━━━━━━━━━━━━━━━┓\n",
       "┃\u001B[1m \u001B[0m\u001B[1mLayer (type)                   \u001B[0m\u001B[1m \u001B[0m┃\u001B[1m \u001B[0m\u001B[1mOutput Shape          \u001B[0m\u001B[1m \u001B[0m┃\u001B[1m \u001B[0m\u001B[1m      Param #\u001B[0m\u001B[1m \u001B[0m┃\n",
       "┡━━━━━━━━━━━━━━━━━━━━━━━━━━━━━━━━━╇━━━━━━━━━━━━━━━━━━━━━━━━╇━━━━━━━━━━━━━━━┩\n",
       "│ dropout_54 (\u001B[38;5;33mDropout\u001B[0m)            │ (\u001B[38;5;45mNone\u001B[0m, \u001B[38;5;34m42\u001B[0m)             │             \u001B[38;5;34m0\u001B[0m │\n",
       "├─────────────────────────────────┼────────────────────────┼───────────────┤\n",
       "│ dense_81 (\u001B[38;5;33mDense\u001B[0m)                │ (\u001B[38;5;45mNone\u001B[0m, \u001B[38;5;34m20\u001B[0m)             │           \u001B[38;5;34m860\u001B[0m │\n",
       "├─────────────────────────────────┼────────────────────────┼───────────────┤\n",
       "│ dropout_55 (\u001B[38;5;33mDropout\u001B[0m)            │ (\u001B[38;5;45mNone\u001B[0m, \u001B[38;5;34m20\u001B[0m)             │             \u001B[38;5;34m0\u001B[0m │\n",
       "├─────────────────────────────────┼────────────────────────┼───────────────┤\n",
       "│ dense_82 (\u001B[38;5;33mDense\u001B[0m)                │ (\u001B[38;5;45mNone\u001B[0m, \u001B[38;5;34m10\u001B[0m)             │           \u001B[38;5;34m210\u001B[0m │\n",
       "├─────────────────────────────────┼────────────────────────┼───────────────┤\n",
       "│ dense_83 (\u001B[38;5;33mDense\u001B[0m)                │ (\u001B[38;5;45mNone\u001B[0m, \u001B[38;5;34m26\u001B[0m)             │           \u001B[38;5;34m286\u001B[0m │\n",
       "└─────────────────────────────────┴────────────────────────┴───────────────┘\n"
      ],
      "text/html": [
       "<pre style=\"white-space:pre;overflow-x:auto;line-height:normal;font-family:Menlo,'DejaVu Sans Mono',consolas,'Courier New',monospace\">┏━━━━━━━━━━━━━━━━━━━━━━━━━━━━━━━━━┳━━━━━━━━━━━━━━━━━━━━━━━━┳━━━━━━━━━━━━━━━┓\n",
       "┃<span style=\"font-weight: bold\"> Layer (type)                    </span>┃<span style=\"font-weight: bold\"> Output Shape           </span>┃<span style=\"font-weight: bold\">       Param # </span>┃\n",
       "┡━━━━━━━━━━━━━━━━━━━━━━━━━━━━━━━━━╇━━━━━━━━━━━━━━━━━━━━━━━━╇━━━━━━━━━━━━━━━┩\n",
       "│ dropout_54 (<span style=\"color: #0087ff; text-decoration-color: #0087ff\">Dropout</span>)            │ (<span style=\"color: #00d7ff; text-decoration-color: #00d7ff\">None</span>, <span style=\"color: #00af00; text-decoration-color: #00af00\">42</span>)             │             <span style=\"color: #00af00; text-decoration-color: #00af00\">0</span> │\n",
       "├─────────────────────────────────┼────────────────────────┼───────────────┤\n",
       "│ dense_81 (<span style=\"color: #0087ff; text-decoration-color: #0087ff\">Dense</span>)                │ (<span style=\"color: #00d7ff; text-decoration-color: #00d7ff\">None</span>, <span style=\"color: #00af00; text-decoration-color: #00af00\">20</span>)             │           <span style=\"color: #00af00; text-decoration-color: #00af00\">860</span> │\n",
       "├─────────────────────────────────┼────────────────────────┼───────────────┤\n",
       "│ dropout_55 (<span style=\"color: #0087ff; text-decoration-color: #0087ff\">Dropout</span>)            │ (<span style=\"color: #00d7ff; text-decoration-color: #00d7ff\">None</span>, <span style=\"color: #00af00; text-decoration-color: #00af00\">20</span>)             │             <span style=\"color: #00af00; text-decoration-color: #00af00\">0</span> │\n",
       "├─────────────────────────────────┼────────────────────────┼───────────────┤\n",
       "│ dense_82 (<span style=\"color: #0087ff; text-decoration-color: #0087ff\">Dense</span>)                │ (<span style=\"color: #00d7ff; text-decoration-color: #00d7ff\">None</span>, <span style=\"color: #00af00; text-decoration-color: #00af00\">10</span>)             │           <span style=\"color: #00af00; text-decoration-color: #00af00\">210</span> │\n",
       "├─────────────────────────────────┼────────────────────────┼───────────────┤\n",
       "│ dense_83 (<span style=\"color: #0087ff; text-decoration-color: #0087ff\">Dense</span>)                │ (<span style=\"color: #00d7ff; text-decoration-color: #00d7ff\">None</span>, <span style=\"color: #00af00; text-decoration-color: #00af00\">26</span>)             │           <span style=\"color: #00af00; text-decoration-color: #00af00\">286</span> │\n",
       "└─────────────────────────────────┴────────────────────────┴───────────────┘\n",
       "</pre>\n"
      ]
     },
     "metadata": {},
     "output_type": "display_data"
    },
    {
     "data": {
      "text/plain": [
       "\u001B[1m Total params: \u001B[0m\u001B[38;5;34m1,356\u001B[0m (5.30 KB)\n"
      ],
      "text/html": [
       "<pre style=\"white-space:pre;overflow-x:auto;line-height:normal;font-family:Menlo,'DejaVu Sans Mono',consolas,'Courier New',monospace\"><span style=\"font-weight: bold\"> Total params: </span><span style=\"color: #00af00; text-decoration-color: #00af00\">1,356</span> (5.30 KB)\n",
       "</pre>\n"
      ]
     },
     "metadata": {},
     "output_type": "display_data"
    },
    {
     "data": {
      "text/plain": [
       "\u001B[1m Trainable params: \u001B[0m\u001B[38;5;34m1,356\u001B[0m (5.30 KB)\n"
      ],
      "text/html": [
       "<pre style=\"white-space:pre;overflow-x:auto;line-height:normal;font-family:Menlo,'DejaVu Sans Mono',consolas,'Courier New',monospace\"><span style=\"font-weight: bold\"> Trainable params: </span><span style=\"color: #00af00; text-decoration-color: #00af00\">1,356</span> (5.30 KB)\n",
       "</pre>\n"
      ]
     },
     "metadata": {},
     "output_type": "display_data"
    },
    {
     "data": {
      "text/plain": [
       "\u001B[1m Non-trainable params: \u001B[0m\u001B[38;5;34m0\u001B[0m (0.00 B)\n"
      ],
      "text/html": [
       "<pre style=\"white-space:pre;overflow-x:auto;line-height:normal;font-family:Menlo,'DejaVu Sans Mono',consolas,'Courier New',monospace\"><span style=\"font-weight: bold\"> Non-trainable params: </span><span style=\"color: #00af00; text-decoration-color: #00af00\">0</span> (0.00 B)\n",
       "</pre>\n"
      ]
     },
     "metadata": {},
     "output_type": "display_data"
    }
   ],
   "execution_count": 605
  },
  {
   "cell_type": "code",
   "metadata": {
    "id": "MbMjOflQ9hE1",
    "ExecuteTime": {
     "end_time": "2025-02-09T09:26:06.030617Z",
     "start_time": "2025-02-09T09:26:06.027617Z"
    }
   },
   "source": [
    "# Model checkpoint callback\n",
    "cp_callback = tf.keras.callbacks.ModelCheckpoint(\n",
    "    \"model/keypoint_classifier/keypoint_classifier.keras\",  # Update to .keras\n",
    "    verbose=1,\n",
    "    save_weights_only=False\n",
    ")\n",
    "\n",
    "# Early stopping callback\n",
    "es_callback = tf.keras.callbacks.EarlyStopping(patience=20, verbose=1)\n"
   ],
   "outputs": [],
   "execution_count": 606
  },
  {
   "cell_type": "code",
   "metadata": {
    "id": "c3Dac0M_9hE2",
    "ExecuteTime": {
     "end_time": "2025-02-09T09:26:06.047002Z",
     "start_time": "2025-02-09T09:26:06.041887Z"
    }
   },
   "source": [
    "# Model compilation\n",
    "model.compile(\n",
    "    optimizer='adam',\n",
    "    loss='sparse_categorical_crossentropy',\n",
    "    metrics=['accuracy']\n",
    ")"
   ],
   "outputs": [],
   "execution_count": 607
  },
  {
   "cell_type": "markdown",
   "metadata": {
    "id": "7XI0j1Iu9hE2"
   },
   "source": [
    "# Model training"
   ]
  },
  {
   "cell_type": "code",
   "metadata": {
    "scrolled": true,
    "id": "WirBl-JE9hE3",
    "colab": {
     "base_uri": "https://localhost:8080/"
    },
    "outputId": "71b30ca2-8294-4d9d-8aa2-800d90d399de",
    "ExecuteTime": {
     "end_time": "2025-02-09T09:26:24.938832Z",
     "start_time": "2025-02-09T09:26:06.054371Z"
    }
   },
   "source": [
    "model.fit(\n",
    "    X_train,\n",
    "    y_train,\n",
    "    epochs=1000,\n",
    "    batch_size=128,\n",
    "    validation_data=(X_test, y_test),\n",
    "    callbacks=[cp_callback, es_callback]\n",
    ")"
   ],
   "outputs": [
    {
     "name": "stdout",
     "output_type": "stream",
     "text": [
      "Epoch 1/1000\n",
      "\u001B[1m159/188\u001B[0m \u001B[32m━━━━━━━━━━━━━━━━\u001B[0m\u001B[37m━━━━\u001B[0m \u001B[1m0s\u001B[0m 720us/step - accuracy: 0.0557 - loss: 3.2533\n",
      "Epoch 1: saving model to model/keypoint_classifier/keypoint_classifier.keras\n",
      "\u001B[1m188/188\u001B[0m \u001B[32m━━━━━━━━━━━━━━━━━━━━\u001B[0m\u001B[37m\u001B[0m \u001B[1m1s\u001B[0m 1ms/step - accuracy: 0.0606 - loss: 3.2414 - val_accuracy: 0.1944 - val_loss: 2.8722\n",
      "Epoch 2/1000\n",
      "\u001B[1m170/188\u001B[0m \u001B[32m━━━━━━━━━━━━━━━━━━\u001B[0m\u001B[37m━━\u001B[0m \u001B[1m0s\u001B[0m 698us/step - accuracy: 0.1574 - loss: 2.8523\n",
      "Epoch 2: saving model to model/keypoint_classifier/keypoint_classifier.keras\n",
      "\u001B[1m188/188\u001B[0m \u001B[32m━━━━━━━━━━━━━━━━━━━━\u001B[0m\u001B[37m\u001B[0m \u001B[1m0s\u001B[0m 980us/step - accuracy: 0.1596 - loss: 2.8396 - val_accuracy: 0.4206 - val_loss: 2.2356\n",
      "Epoch 3/1000\n",
      "\u001B[1m186/188\u001B[0m \u001B[32m━━━━━━━━━━━━━━━━━━━\u001B[0m\u001B[37m━\u001B[0m \u001B[1m0s\u001B[0m 681us/step - accuracy: 0.2478 - loss: 2.3920\n",
      "Epoch 3: saving model to model/keypoint_classifier/keypoint_classifier.keras\n",
      "\u001B[1m188/188\u001B[0m \u001B[32m━━━━━━━━━━━━━━━━━━━━\u001B[0m\u001B[37m\u001B[0m \u001B[1m0s\u001B[0m 1ms/step - accuracy: 0.2480 - loss: 2.3907 - val_accuracy: 0.5860 - val_loss: 1.7498\n",
      "Epoch 4/1000\n",
      "\u001B[1m183/188\u001B[0m \u001B[32m━━━━━━━━━━━━━━━━━━━\u001B[0m\u001B[37m━\u001B[0m \u001B[1m0s\u001B[0m 654us/step - accuracy: 0.3049 - loss: 2.1461\n",
      "Epoch 4: saving model to model/keypoint_classifier/keypoint_classifier.keras\n",
      "\u001B[1m188/188\u001B[0m \u001B[32m━━━━━━━━━━━━━━━━━━━━\u001B[0m\u001B[37m\u001B[0m \u001B[1m0s\u001B[0m 978us/step - accuracy: 0.3052 - loss: 2.1446 - val_accuracy: 0.6779 - val_loss: 1.5071\n",
      "Epoch 5/1000\n",
      "\u001B[1m182/188\u001B[0m \u001B[32m━━━━━━━━━━━━━━━━━━━\u001B[0m\u001B[37m━\u001B[0m \u001B[1m0s\u001B[0m 697us/step - accuracy: 0.3380 - loss: 2.0051\n",
      "Epoch 5: saving model to model/keypoint_classifier/keypoint_classifier.keras\n",
      "\u001B[1m188/188\u001B[0m \u001B[32m━━━━━━━━━━━━━━━━━━━━\u001B[0m\u001B[37m\u001B[0m \u001B[1m0s\u001B[0m 1ms/step - accuracy: 0.3382 - loss: 2.0040 - val_accuracy: 0.7085 - val_loss: 1.3521\n",
      "Epoch 6/1000\n",
      "\u001B[1m177/188\u001B[0m \u001B[32m━━━━━━━━━━━━━━━━━━\u001B[0m\u001B[37m━━\u001B[0m \u001B[1m0s\u001B[0m 716us/step - accuracy: 0.3682 - loss: 1.8836\n",
      "Epoch 6: saving model to model/keypoint_classifier/keypoint_classifier.keras\n",
      "\u001B[1m188/188\u001B[0m \u001B[32m━━━━━━━━━━━━━━━━━━━━\u001B[0m\u001B[37m\u001B[0m \u001B[1m0s\u001B[0m 1ms/step - accuracy: 0.3686 - loss: 1.8824 - val_accuracy: 0.7449 - val_loss: 1.2553\n",
      "Epoch 7/1000\n",
      "\u001B[1m168/188\u001B[0m \u001B[32m━━━━━━━━━━━━━━━━━\u001B[0m\u001B[37m━━━\u001B[0m \u001B[1m0s\u001B[0m 720us/step - accuracy: 0.3912 - loss: 1.8243\n",
      "Epoch 7: saving model to model/keypoint_classifier/keypoint_classifier.keras\n",
      "\u001B[1m188/188\u001B[0m \u001B[32m━━━━━━━━━━━━━━━━━━━━\u001B[0m\u001B[37m\u001B[0m \u001B[1m0s\u001B[0m 1ms/step - accuracy: 0.3911 - loss: 1.8234 - val_accuracy: 0.7581 - val_loss: 1.1967\n",
      "Epoch 8/1000\n",
      "\u001B[1m155/188\u001B[0m \u001B[32m━━━━━━━━━━━━━━━━\u001B[0m\u001B[37m━━━━\u001B[0m \u001B[1m0s\u001B[0m 731us/step - accuracy: 0.4003 - loss: 1.7686\n",
      "Epoch 8: saving model to model/keypoint_classifier/keypoint_classifier.keras\n",
      "\u001B[1m188/188\u001B[0m \u001B[32m━━━━━━━━━━━━━━━━━━━━\u001B[0m\u001B[37m\u001B[0m \u001B[1m0s\u001B[0m 1ms/step - accuracy: 0.4012 - loss: 1.7667 - val_accuracy: 0.7629 - val_loss: 1.1360\n",
      "Epoch 9/1000\n",
      "\u001B[1m149/188\u001B[0m \u001B[32m━━━━━━━━━━━━━━━\u001B[0m\u001B[37m━━━━━\u001B[0m \u001B[1m0s\u001B[0m 681us/step - accuracy: 0.4184 - loss: 1.7222\n",
      "Epoch 9: saving model to model/keypoint_classifier/keypoint_classifier.keras\n",
      "\u001B[1m188/188\u001B[0m \u001B[32m━━━━━━━━━━━━━━━━━━━━\u001B[0m\u001B[37m\u001B[0m \u001B[1m0s\u001B[0m 1ms/step - accuracy: 0.4176 - loss: 1.7233 - val_accuracy: 0.7529 - val_loss: 1.1078\n",
      "Epoch 10/1000\n",
      "\u001B[1m163/188\u001B[0m \u001B[32m━━━━━━━━━━━━━━━━━\u001B[0m\u001B[37m━━━\u001B[0m \u001B[1m0s\u001B[0m 690us/step - accuracy: 0.4277 - loss: 1.6857\n",
      "Epoch 10: saving model to model/keypoint_classifier/keypoint_classifier.keras\n",
      "\u001B[1m188/188\u001B[0m \u001B[32m━━━━━━━━━━━━━━━━━━━━\u001B[0m\u001B[37m\u001B[0m \u001B[1m0s\u001B[0m 1ms/step - accuracy: 0.4276 - loss: 1.6862 - val_accuracy: 0.7773 - val_loss: 1.0621\n",
      "Epoch 11/1000\n",
      "\u001B[1m164/188\u001B[0m \u001B[32m━━━━━━━━━━━━━━━━━\u001B[0m\u001B[37m━━━\u001B[0m \u001B[1m0s\u001B[0m 702us/step - accuracy: 0.4325 - loss: 1.6572\n",
      "Epoch 11: saving model to model/keypoint_classifier/keypoint_classifier.keras\n",
      "\u001B[1m188/188\u001B[0m \u001B[32m━━━━━━━━━━━━━━━━━━━━\u001B[0m\u001B[37m\u001B[0m \u001B[1m0s\u001B[0m 1ms/step - accuracy: 0.4327 - loss: 1.6560 - val_accuracy: 0.7839 - val_loss: 1.0190\n",
      "Epoch 12/1000\n",
      "\u001B[1m158/188\u001B[0m \u001B[32m━━━━━━━━━━━━━━━━\u001B[0m\u001B[37m━━━━\u001B[0m \u001B[1m0s\u001B[0m 686us/step - accuracy: 0.4389 - loss: 1.6269\n",
      "Epoch 12: saving model to model/keypoint_classifier/keypoint_classifier.keras\n",
      "\u001B[1m188/188\u001B[0m \u001B[32m━━━━━━━━━━━━━━━━━━━━\u001B[0m\u001B[37m\u001B[0m \u001B[1m0s\u001B[0m 1ms/step - accuracy: 0.4399 - loss: 1.6251 - val_accuracy: 0.7762 - val_loss: 1.0062\n",
      "Epoch 13/1000\n",
      "\u001B[1m147/188\u001B[0m \u001B[32m━━━━━━━━━━━━━━━\u001B[0m\u001B[37m━━━━━\u001B[0m \u001B[1m0s\u001B[0m 691us/step - accuracy: 0.4558 - loss: 1.5933\n",
      "Epoch 13: saving model to model/keypoint_classifier/keypoint_classifier.keras\n",
      "\u001B[1m188/188\u001B[0m \u001B[32m━━━━━━━━━━━━━━━━━━━━\u001B[0m\u001B[37m\u001B[0m \u001B[1m0s\u001B[0m 1ms/step - accuracy: 0.4554 - loss: 1.5929 - val_accuracy: 0.7754 - val_loss: 0.9583\n",
      "Epoch 14/1000\n",
      "\u001B[1m 95/188\u001B[0m \u001B[32m━━━━━━━━━━\u001B[0m\u001B[37m━━━━━━━━━━\u001B[0m \u001B[1m0s\u001B[0m 676us/step - accuracy: 0.4619 - loss: 1.5884\n",
      "Epoch 14: saving model to model/keypoint_classifier/keypoint_classifier.keras\n",
      "\u001B[1m188/188\u001B[0m \u001B[32m━━━━━━━━━━━━━━━━━━━━\u001B[0m\u001B[37m\u001B[0m \u001B[1m0s\u001B[0m 1ms/step - accuracy: 0.4620 - loss: 1.5779 - val_accuracy: 0.7875 - val_loss: 0.9430\n",
      "Epoch 15/1000\n",
      "\u001B[1m156/188\u001B[0m \u001B[32m━━━━━━━━━━━━━━━━\u001B[0m\u001B[37m━━━━\u001B[0m \u001B[1m0s\u001B[0m 815us/step - accuracy: 0.4630 - loss: 1.5517\n",
      "Epoch 15: saving model to model/keypoint_classifier/keypoint_classifier.keras\n",
      "\u001B[1m188/188\u001B[0m \u001B[32m━━━━━━━━━━━━━━━━━━━━\u001B[0m\u001B[37m\u001B[0m \u001B[1m0s\u001B[0m 1ms/step - accuracy: 0.4639 - loss: 1.5490 - val_accuracy: 0.7983 - val_loss: 0.8982\n",
      "Epoch 16/1000\n",
      "\u001B[1m149/188\u001B[0m \u001B[32m━━━━━━━━━━━━━━━\u001B[0m\u001B[37m━━━━━\u001B[0m \u001B[1m0s\u001B[0m 755us/step - accuracy: 0.4728 - loss: 1.5270\n",
      "Epoch 16: saving model to model/keypoint_classifier/keypoint_classifier.keras\n",
      "\u001B[1m188/188\u001B[0m \u001B[32m━━━━━━━━━━━━━━━━━━━━\u001B[0m\u001B[37m\u001B[0m \u001B[1m0s\u001B[0m 1ms/step - accuracy: 0.4730 - loss: 1.5256 - val_accuracy: 0.7985 - val_loss: 0.9061\n",
      "Epoch 17/1000\n",
      "\u001B[1m159/188\u001B[0m \u001B[32m━━━━━━━━━━━━━━━━\u001B[0m\u001B[37m━━━━\u001B[0m \u001B[1m0s\u001B[0m 753us/step - accuracy: 0.4736 - loss: 1.5251\n",
      "Epoch 17: saving model to model/keypoint_classifier/keypoint_classifier.keras\n",
      "\u001B[1m188/188\u001B[0m \u001B[32m━━━━━━━━━━━━━━━━━━━━\u001B[0m\u001B[37m\u001B[0m \u001B[1m0s\u001B[0m 1ms/step - accuracy: 0.4747 - loss: 1.5221 - val_accuracy: 0.7884 - val_loss: 0.8771\n",
      "Epoch 18/1000\n",
      "\u001B[1m162/188\u001B[0m \u001B[32m━━━━━━━━━━━━━━━━━\u001B[0m\u001B[37m━━━\u001B[0m \u001B[1m0s\u001B[0m 689us/step - accuracy: 0.4787 - loss: 1.5002\n",
      "Epoch 18: saving model to model/keypoint_classifier/keypoint_classifier.keras\n",
      "\u001B[1m188/188\u001B[0m \u001B[32m━━━━━━━━━━━━━━━━━━━━\u001B[0m\u001B[37m\u001B[0m \u001B[1m0s\u001B[0m 1ms/step - accuracy: 0.4790 - loss: 1.4994 - val_accuracy: 0.7885 - val_loss: 0.8733\n",
      "Epoch 19/1000\n",
      "\u001B[1m149/188\u001B[0m \u001B[32m━━━━━━━━━━━━━━━\u001B[0m\u001B[37m━━━━━\u001B[0m \u001B[1m0s\u001B[0m 755us/step - accuracy: 0.4855 - loss: 1.4763\n",
      "Epoch 19: saving model to model/keypoint_classifier/keypoint_classifier.keras\n",
      "\u001B[1m188/188\u001B[0m \u001B[32m━━━━━━━━━━━━━━━━━━━━\u001B[0m\u001B[37m\u001B[0m \u001B[1m0s\u001B[0m 1ms/step - accuracy: 0.4866 - loss: 1.4735 - val_accuracy: 0.8125 - val_loss: 0.8450\n",
      "Epoch 20/1000\n",
      "\u001B[1m 97/188\u001B[0m \u001B[32m━━━━━━━━━━\u001B[0m\u001B[37m━━━━━━━━━━\u001B[0m \u001B[1m0s\u001B[0m 662us/step - accuracy: 0.4887 - loss: 1.4775\n",
      "Epoch 20: saving model to model/keypoint_classifier/keypoint_classifier.keras\n",
      "\u001B[1m188/188\u001B[0m \u001B[32m━━━━━━━━━━━━━━━━━━━━\u001B[0m\u001B[37m\u001B[0m \u001B[1m0s\u001B[0m 997us/step - accuracy: 0.4931 - loss: 1.4637 - val_accuracy: 0.8169 - val_loss: 0.8287\n",
      "Epoch 21/1000\n",
      "\u001B[1m186/188\u001B[0m \u001B[32m━━━━━━━━━━━━━━━━━━━\u001B[0m\u001B[37m━\u001B[0m \u001B[1m0s\u001B[0m 661us/step - accuracy: 0.4972 - loss: 1.4371\n",
      "Epoch 21: saving model to model/keypoint_classifier/keypoint_classifier.keras\n",
      "\u001B[1m188/188\u001B[0m \u001B[32m━━━━━━━━━━━━━━━━━━━━\u001B[0m\u001B[37m\u001B[0m \u001B[1m0s\u001B[0m 1ms/step - accuracy: 0.4973 - loss: 1.4369 - val_accuracy: 0.8326 - val_loss: 0.7954\n",
      "Epoch 22/1000\n",
      "\u001B[1m127/188\u001B[0m \u001B[32m━━━━━━━━━━━━━\u001B[0m\u001B[37m━━━━━━━\u001B[0m \u001B[1m0s\u001B[0m 934us/step - accuracy: 0.5075 - loss: 1.4100\n",
      "Epoch 22: saving model to model/keypoint_classifier/keypoint_classifier.keras\n",
      "\u001B[1m188/188\u001B[0m \u001B[32m━━━━━━━━━━━━━━━━━━━━\u001B[0m\u001B[37m\u001B[0m \u001B[1m0s\u001B[0m 1ms/step - accuracy: 0.5075 - loss: 1.4101 - val_accuracy: 0.8175 - val_loss: 0.7948\n",
      "Epoch 23/1000\n",
      "\u001B[1m 96/188\u001B[0m \u001B[32m━━━━━━━━━━\u001B[0m\u001B[37m━━━━━━━━━━\u001B[0m \u001B[1m0s\u001B[0m 666us/step - accuracy: 0.5096 - loss: 1.4052\n",
      "Epoch 23: saving model to model/keypoint_classifier/keypoint_classifier.keras\n",
      "\u001B[1m188/188\u001B[0m \u001B[32m━━━━━━━━━━━━━━━━━━━━\u001B[0m\u001B[37m\u001B[0m \u001B[1m0s\u001B[0m 1ms/step - accuracy: 0.5114 - loss: 1.4049 - val_accuracy: 0.8392 - val_loss: 0.7730\n",
      "Epoch 24/1000\n",
      "\u001B[1m150/188\u001B[0m \u001B[32m━━━━━━━━━━━━━━━\u001B[0m\u001B[37m━━━━━\u001B[0m \u001B[1m0s\u001B[0m 764us/step - accuracy: 0.5194 - loss: 1.3868\n",
      "Epoch 24: saving model to model/keypoint_classifier/keypoint_classifier.keras\n",
      "\u001B[1m188/188\u001B[0m \u001B[32m━━━━━━━━━━━━━━━━━━━━\u001B[0m\u001B[37m\u001B[0m \u001B[1m0s\u001B[0m 1ms/step - accuracy: 0.5189 - loss: 1.3865 - val_accuracy: 0.8383 - val_loss: 0.7521\n",
      "Epoch 25/1000\n",
      "\u001B[1m180/188\u001B[0m \u001B[32m━━━━━━━━━━━━━━━━━━━\u001B[0m\u001B[37m━\u001B[0m \u001B[1m0s\u001B[0m 694us/step - accuracy: 0.5246 - loss: 1.3689\n",
      "Epoch 25: saving model to model/keypoint_classifier/keypoint_classifier.keras\n",
      "\u001B[1m188/188\u001B[0m \u001B[32m━━━━━━━━━━━━━━━━━━━━\u001B[0m\u001B[37m\u001B[0m \u001B[1m0s\u001B[0m 1ms/step - accuracy: 0.5245 - loss: 1.3691 - val_accuracy: 0.8305 - val_loss: 0.7437\n",
      "Epoch 26/1000\n",
      "\u001B[1m184/188\u001B[0m \u001B[32m━━━━━━━━━━━━━━━━━━━\u001B[0m\u001B[37m━\u001B[0m \u001B[1m0s\u001B[0m 665us/step - accuracy: 0.5280 - loss: 1.3695\n",
      "Epoch 26: saving model to model/keypoint_classifier/keypoint_classifier.keras\n",
      "\u001B[1m188/188\u001B[0m \u001B[32m━━━━━━━━━━━━━━━━━━━━\u001B[0m\u001B[37m\u001B[0m \u001B[1m0s\u001B[0m 1ms/step - accuracy: 0.5280 - loss: 1.3695 - val_accuracy: 0.8417 - val_loss: 0.7406\n",
      "Epoch 27/1000\n",
      "\u001B[1m152/188\u001B[0m \u001B[32m━━━━━━━━━━━━━━━━\u001B[0m\u001B[37m━━━━\u001B[0m \u001B[1m0s\u001B[0m 759us/step - accuracy: 0.5375 - loss: 1.3350\n",
      "Epoch 27: saving model to model/keypoint_classifier/keypoint_classifier.keras\n",
      "\u001B[1m188/188\u001B[0m \u001B[32m━━━━━━━━━━━━━━━━━━━━\u001B[0m\u001B[37m\u001B[0m \u001B[1m0s\u001B[0m 1ms/step - accuracy: 0.5367 - loss: 1.3362 - val_accuracy: 0.8511 - val_loss: 0.7102\n",
      "Epoch 28/1000\n",
      "\u001B[1m 96/188\u001B[0m \u001B[32m━━━━━━━━━━\u001B[0m\u001B[37m━━━━━━━━━━\u001B[0m \u001B[1m0s\u001B[0m 667us/step - accuracy: 0.5272 - loss: 1.3399\n",
      "Epoch 28: saving model to model/keypoint_classifier/keypoint_classifier.keras\n",
      "\u001B[1m188/188\u001B[0m \u001B[32m━━━━━━━━━━━━━━━━━━━━\u001B[0m\u001B[37m\u001B[0m \u001B[1m0s\u001B[0m 1ms/step - accuracy: 0.5319 - loss: 1.3322 - val_accuracy: 0.8644 - val_loss: 0.6989\n",
      "Epoch 29/1000\n",
      "\u001B[1m 88/188\u001B[0m \u001B[32m━━━━━━━━━\u001B[0m\u001B[37m━━━━━━━━━━━\u001B[0m \u001B[1m0s\u001B[0m 717us/step - accuracy: 0.5398 - loss: 1.3250\n",
      "Epoch 29: saving model to model/keypoint_classifier/keypoint_classifier.keras\n",
      "\u001B[1m188/188\u001B[0m \u001B[32m━━━━━━━━━━━━━━━━━━━━\u001B[0m\u001B[37m\u001B[0m \u001B[1m0s\u001B[0m 1ms/step - accuracy: 0.5443 - loss: 1.3157 - val_accuracy: 0.8790 - val_loss: 0.6859\n",
      "Epoch 30/1000\n",
      "\u001B[1m164/188\u001B[0m \u001B[32m━━━━━━━━━━━━━━━━━\u001B[0m\u001B[37m━━━\u001B[0m \u001B[1m0s\u001B[0m 682us/step - accuracy: 0.5524 - loss: 1.3045\n",
      "Epoch 30: saving model to model/keypoint_classifier/keypoint_classifier.keras\n",
      "\u001B[1m188/188\u001B[0m \u001B[32m━━━━━━━━━━━━━━━━━━━━\u001B[0m\u001B[37m\u001B[0m \u001B[1m0s\u001B[0m 1ms/step - accuracy: 0.5522 - loss: 1.3048 - val_accuracy: 0.9002 - val_loss: 0.6670\n",
      "Epoch 31/1000\n",
      "\u001B[1m165/188\u001B[0m \u001B[32m━━━━━━━━━━━━━━━━━\u001B[0m\u001B[37m━━━\u001B[0m \u001B[1m0s\u001B[0m 693us/step - accuracy: 0.5536 - loss: 1.2830\n",
      "Epoch 31: saving model to model/keypoint_classifier/keypoint_classifier.keras\n",
      "\u001B[1m188/188\u001B[0m \u001B[32m━━━━━━━━━━━━━━━━━━━━\u001B[0m\u001B[37m\u001B[0m \u001B[1m0s\u001B[0m 1ms/step - accuracy: 0.5534 - loss: 1.2837 - val_accuracy: 0.9057 - val_loss: 0.6655\n",
      "Epoch 32/1000\n",
      "\u001B[1m185/188\u001B[0m \u001B[32m━━━━━━━━━━━━━━━━━━━\u001B[0m\u001B[37m━\u001B[0m \u001B[1m0s\u001B[0m 691us/step - accuracy: 0.5478 - loss: 1.2893\n",
      "Epoch 32: saving model to model/keypoint_classifier/keypoint_classifier.keras\n",
      "\u001B[1m188/188\u001B[0m \u001B[32m━━━━━━━━━━━━━━━━━━━━\u001B[0m\u001B[37m\u001B[0m \u001B[1m0s\u001B[0m 1ms/step - accuracy: 0.5479 - loss: 1.2891 - val_accuracy: 0.8906 - val_loss: 0.6544\n",
      "Epoch 33/1000\n",
      "\u001B[1m181/188\u001B[0m \u001B[32m━━━━━━━━━━━━━━━━━━━\u001B[0m\u001B[37m━\u001B[0m \u001B[1m0s\u001B[0m 708us/step - accuracy: 0.5557 - loss: 1.2761\n",
      "Epoch 33: saving model to model/keypoint_classifier/keypoint_classifier.keras\n",
      "\u001B[1m188/188\u001B[0m \u001B[32m━━━━━━━━━━━━━━━━━━━━\u001B[0m\u001B[37m\u001B[0m \u001B[1m0s\u001B[0m 1ms/step - accuracy: 0.5559 - loss: 1.2759 - val_accuracy: 0.9035 - val_loss: 0.6420\n",
      "Epoch 34/1000\n",
      "\u001B[1m183/188\u001B[0m \u001B[32m━━━━━━━━━━━━━━━━━━━\u001B[0m\u001B[37m━\u001B[0m \u001B[1m0s\u001B[0m 696us/step - accuracy: 0.5564 - loss: 1.2794\n",
      "Epoch 34: saving model to model/keypoint_classifier/keypoint_classifier.keras\n",
      "\u001B[1m188/188\u001B[0m \u001B[32m━━━━━━━━━━━━━━━━━━━━\u001B[0m\u001B[37m\u001B[0m \u001B[1m0s\u001B[0m 1ms/step - accuracy: 0.5565 - loss: 1.2790 - val_accuracy: 0.9135 - val_loss: 0.6417\n",
      "Epoch 35/1000\n",
      "\u001B[1m154/188\u001B[0m \u001B[32m━━━━━━━━━━━━━━━━\u001B[0m\u001B[37m━━━━\u001B[0m \u001B[1m0s\u001B[0m 727us/step - accuracy: 0.5683 - loss: 1.2452\n",
      "Epoch 35: saving model to model/keypoint_classifier/keypoint_classifier.keras\n",
      "\u001B[1m188/188\u001B[0m \u001B[32m━━━━━━━━━━━━━━━━━━━━\u001B[0m\u001B[37m\u001B[0m \u001B[1m0s\u001B[0m 1ms/step - accuracy: 0.5682 - loss: 1.2449 - val_accuracy: 0.8925 - val_loss: 0.6427\n",
      "Epoch 36/1000\n",
      "\u001B[1m 97/188\u001B[0m \u001B[32m━━━━━━━━━━\u001B[0m\u001B[37m━━━━━━━━━━\u001B[0m \u001B[1m0s\u001B[0m 661us/step - accuracy: 0.5612 - loss: 1.2527\n",
      "Epoch 36: saving model to model/keypoint_classifier/keypoint_classifier.keras\n",
      "\u001B[1m188/188\u001B[0m \u001B[32m━━━━━━━━━━━━━━━━━━━━\u001B[0m\u001B[37m\u001B[0m \u001B[1m0s\u001B[0m 948us/step - accuracy: 0.5642 - loss: 1.2497 - val_accuracy: 0.8995 - val_loss: 0.6316\n",
      "Epoch 37/1000\n",
      "\u001B[1m 97/188\u001B[0m \u001B[32m━━━━━━━━━━\u001B[0m\u001B[37m━━━━━━━━━━\u001B[0m \u001B[1m0s\u001B[0m 664us/step - accuracy: 0.5748 - loss: 1.2242\n",
      "Epoch 37: saving model to model/keypoint_classifier/keypoint_classifier.keras\n",
      "\u001B[1m188/188\u001B[0m \u001B[32m━━━━━━━━━━━━━━━━━━━━\u001B[0m\u001B[37m\u001B[0m \u001B[1m0s\u001B[0m 965us/step - accuracy: 0.5725 - loss: 1.2267 - val_accuracy: 0.9121 - val_loss: 0.6280\n",
      "Epoch 38/1000\n",
      "\u001B[1m 99/188\u001B[0m \u001B[32m━━━━━━━━━━\u001B[0m\u001B[37m━━━━━━━━━━\u001B[0m \u001B[1m0s\u001B[0m 645us/step - accuracy: 0.5788 - loss: 1.2233\n",
      "Epoch 38: saving model to model/keypoint_classifier/keypoint_classifier.keras\n",
      "\u001B[1m188/188\u001B[0m \u001B[32m━━━━━━━━━━━━━━━━━━━━\u001B[0m\u001B[37m\u001B[0m \u001B[1m0s\u001B[0m 945us/step - accuracy: 0.5798 - loss: 1.2143 - val_accuracy: 0.9047 - val_loss: 0.6084\n",
      "Epoch 39/1000\n",
      "\u001B[1m179/188\u001B[0m \u001B[32m━━━━━━━━━━━━━━━━━━━\u001B[0m\u001B[37m━\u001B[0m \u001B[1m0s\u001B[0m 657us/step - accuracy: 0.5762 - loss: 1.2229\n",
      "Epoch 39: saving model to model/keypoint_classifier/keypoint_classifier.keras\n",
      "\u001B[1m188/188\u001B[0m \u001B[32m━━━━━━━━━━━━━━━━━━━━\u001B[0m\u001B[37m\u001B[0m \u001B[1m0s\u001B[0m 938us/step - accuracy: 0.5762 - loss: 1.2228 - val_accuracy: 0.9162 - val_loss: 0.6063\n",
      "Epoch 40/1000\n",
      "\u001B[1m 93/188\u001B[0m \u001B[32m━━━━━━━━━\u001B[0m\u001B[37m━━━━━━━━━━━\u001B[0m \u001B[1m0s\u001B[0m 690us/step - accuracy: 0.5763 - loss: 1.2309\n",
      "Epoch 40: saving model to model/keypoint_classifier/keypoint_classifier.keras\n",
      "\u001B[1m188/188\u001B[0m \u001B[32m━━━━━━━━━━━━━━━━━━━━\u001B[0m\u001B[37m\u001B[0m \u001B[1m0s\u001B[0m 1ms/step - accuracy: 0.5767 - loss: 1.2240 - val_accuracy: 0.9039 - val_loss: 0.5864\n",
      "Epoch 41/1000\n",
      "\u001B[1m 96/188\u001B[0m \u001B[32m━━━━━━━━━━\u001B[0m\u001B[37m━━━━━━━━━━\u001B[0m \u001B[1m0s\u001B[0m 657us/step - accuracy: 0.5878 - loss: 1.1822\n",
      "Epoch 41: saving model to model/keypoint_classifier/keypoint_classifier.keras\n",
      "\u001B[1m188/188\u001B[0m \u001B[32m━━━━━━━━━━━━━━━━━━━━\u001B[0m\u001B[37m\u001B[0m \u001B[1m0s\u001B[0m 925us/step - accuracy: 0.5853 - loss: 1.1872 - val_accuracy: 0.9190 - val_loss: 0.5920\n",
      "Epoch 42/1000\n",
      "\u001B[1m 96/188\u001B[0m \u001B[32m━━━━━━━━━━\u001B[0m\u001B[37m━━━━━━━━━━\u001B[0m \u001B[1m0s\u001B[0m 668us/step - accuracy: 0.5906 - loss: 1.1836\n",
      "Epoch 42: saving model to model/keypoint_classifier/keypoint_classifier.keras\n",
      "\u001B[1m188/188\u001B[0m \u001B[32m━━━━━━━━━━━━━━━━━━━━\u001B[0m\u001B[37m\u001B[0m \u001B[1m0s\u001B[0m 940us/step - accuracy: 0.5896 - loss: 1.1805 - val_accuracy: 0.9213 - val_loss: 0.5837\n",
      "Epoch 43/1000\n",
      "\u001B[1m181/188\u001B[0m \u001B[32m━━━━━━━━━━━━━━━━━━━\u001B[0m\u001B[37m━\u001B[0m \u001B[1m0s\u001B[0m 683us/step - accuracy: 0.5889 - loss: 1.1759\n",
      "Epoch 43: saving model to model/keypoint_classifier/keypoint_classifier.keras\n",
      "\u001B[1m188/188\u001B[0m \u001B[32m━━━━━━━━━━━━━━━━━━━━\u001B[0m\u001B[37m\u001B[0m \u001B[1m0s\u001B[0m 1ms/step - accuracy: 0.5888 - loss: 1.1758 - val_accuracy: 0.9017 - val_loss: 0.5840\n",
      "Epoch 44/1000\n",
      "\u001B[1m182/188\u001B[0m \u001B[32m━━━━━━━━━━━━━━━━━━━\u001B[0m\u001B[37m━\u001B[0m \u001B[1m0s\u001B[0m 700us/step - accuracy: 0.5894 - loss: 1.1680\n",
      "Epoch 44: saving model to model/keypoint_classifier/keypoint_classifier.keras\n",
      "\u001B[1m188/188\u001B[0m \u001B[32m━━━━━━━━━━━━━━━━━━━━\u001B[0m\u001B[37m\u001B[0m \u001B[1m0s\u001B[0m 1ms/step - accuracy: 0.5894 - loss: 1.1680 - val_accuracy: 0.9150 - val_loss: 0.5830\n",
      "Epoch 45/1000\n",
      "\u001B[1m184/188\u001B[0m \u001B[32m━━━━━━━━━━━━━━━━━━━\u001B[0m\u001B[37m━\u001B[0m \u001B[1m0s\u001B[0m 694us/step - accuracy: 0.5939 - loss: 1.1569\n",
      "Epoch 45: saving model to model/keypoint_classifier/keypoint_classifier.keras\n",
      "\u001B[1m188/188\u001B[0m \u001B[32m━━━━━━━━━━━━━━━━━━━━\u001B[0m\u001B[37m\u001B[0m \u001B[1m0s\u001B[0m 1ms/step - accuracy: 0.5939 - loss: 1.1574 - val_accuracy: 0.9127 - val_loss: 0.5935\n",
      "Epoch 46/1000\n",
      "\u001B[1m161/188\u001B[0m \u001B[32m━━━━━━━━━━━━━━━━━\u001B[0m\u001B[37m━━━\u001B[0m \u001B[1m0s\u001B[0m 709us/step - accuracy: 0.5855 - loss: 1.1750\n",
      "Epoch 46: saving model to model/keypoint_classifier/keypoint_classifier.keras\n",
      "\u001B[1m188/188\u001B[0m \u001B[32m━━━━━━━━━━━━━━━━━━━━\u001B[0m\u001B[37m\u001B[0m \u001B[1m0s\u001B[0m 1ms/step - accuracy: 0.5861 - loss: 1.1747 - val_accuracy: 0.9172 - val_loss: 0.5780\n",
      "Epoch 47/1000\n",
      "\u001B[1m182/188\u001B[0m \u001B[32m━━━━━━━━━━━━━━━━━━━\u001B[0m\u001B[37m━\u001B[0m \u001B[1m0s\u001B[0m 702us/step - accuracy: 0.6021 - loss: 1.1453\n",
      "Epoch 47: saving model to model/keypoint_classifier/keypoint_classifier.keras\n",
      "\u001B[1m188/188\u001B[0m \u001B[32m━━━━━━━━━━━━━━━━━━━━\u001B[0m\u001B[37m\u001B[0m \u001B[1m0s\u001B[0m 1ms/step - accuracy: 0.6020 - loss: 1.1455 - val_accuracy: 0.9213 - val_loss: 0.5662\n",
      "Epoch 48/1000\n",
      "\u001B[1m185/188\u001B[0m \u001B[32m━━━━━━━━━━━━━━━━━━━\u001B[0m\u001B[37m━\u001B[0m \u001B[1m0s\u001B[0m 650us/step - accuracy: 0.5935 - loss: 1.1593\n",
      "Epoch 48: saving model to model/keypoint_classifier/keypoint_classifier.keras\n",
      "\u001B[1m188/188\u001B[0m \u001B[32m━━━━━━━━━━━━━━━━━━━━\u001B[0m\u001B[37m\u001B[0m \u001B[1m0s\u001B[0m 984us/step - accuracy: 0.5936 - loss: 1.1591 - val_accuracy: 0.9137 - val_loss: 0.5770\n",
      "Epoch 49/1000\n",
      "\u001B[1m167/188\u001B[0m \u001B[32m━━━━━━━━━━━━━━━━━\u001B[0m\u001B[37m━━━\u001B[0m \u001B[1m0s\u001B[0m 669us/step - accuracy: 0.6004 - loss: 1.1408\n",
      "Epoch 49: saving model to model/keypoint_classifier/keypoint_classifier.keras\n",
      "\u001B[1m188/188\u001B[0m \u001B[32m━━━━━━━━━━━━━━━━━━━━\u001B[0m\u001B[37m\u001B[0m \u001B[1m0s\u001B[0m 934us/step - accuracy: 0.5999 - loss: 1.1417 - val_accuracy: 0.9020 - val_loss: 0.5895\n",
      "Epoch 50/1000\n",
      "\u001B[1m171/188\u001B[0m \u001B[32m━━━━━━━━━━━━━━━━━━\u001B[0m\u001B[37m━━\u001B[0m \u001B[1m0s\u001B[0m 651us/step - accuracy: 0.6021 - loss: 1.1402\n",
      "Epoch 50: saving model to model/keypoint_classifier/keypoint_classifier.keras\n",
      "\u001B[1m188/188\u001B[0m \u001B[32m━━━━━━━━━━━━━━━━━━━━\u001B[0m\u001B[37m\u001B[0m \u001B[1m0s\u001B[0m 935us/step - accuracy: 0.6022 - loss: 1.1401 - val_accuracy: 0.9052 - val_loss: 0.5877\n",
      "Epoch 51/1000\n",
      "\u001B[1m171/188\u001B[0m \u001B[32m━━━━━━━━━━━━━━━━━━\u001B[0m\u001B[37m━━\u001B[0m \u001B[1m0s\u001B[0m 666us/step - accuracy: 0.5954 - loss: 1.1453\n",
      "Epoch 51: saving model to model/keypoint_classifier/keypoint_classifier.keras\n",
      "\u001B[1m188/188\u001B[0m \u001B[32m━━━━━━━━━━━━━━━━━━━━\u001B[0m\u001B[37m\u001B[0m \u001B[1m0s\u001B[0m 948us/step - accuracy: 0.5956 - loss: 1.1451 - val_accuracy: 0.9076 - val_loss: 0.5661\n",
      "Epoch 52/1000\n",
      "\u001B[1m183/188\u001B[0m \u001B[32m━━━━━━━━━━━━━━━━━━━\u001B[0m\u001B[37m━\u001B[0m \u001B[1m0s\u001B[0m 699us/step - accuracy: 0.6124 - loss: 1.1291\n",
      "Epoch 52: saving model to model/keypoint_classifier/keypoint_classifier.keras\n",
      "\u001B[1m188/188\u001B[0m \u001B[32m━━━━━━━━━━━━━━━━━━━━\u001B[0m\u001B[37m\u001B[0m \u001B[1m0s\u001B[0m 1ms/step - accuracy: 0.6122 - loss: 1.1293 - val_accuracy: 0.9109 - val_loss: 0.5844\n",
      "Epoch 53/1000\n",
      "\u001B[1m179/188\u001B[0m \u001B[32m━━━━━━━━━━━━━━━━━━━\u001B[0m\u001B[37m━\u001B[0m \u001B[1m0s\u001B[0m 713us/step - accuracy: 0.6067 - loss: 1.1218\n",
      "Epoch 53: saving model to model/keypoint_classifier/keypoint_classifier.keras\n",
      "\u001B[1m188/188\u001B[0m \u001B[32m━━━━━━━━━━━━━━━━━━━━\u001B[0m\u001B[37m\u001B[0m \u001B[1m0s\u001B[0m 1ms/step - accuracy: 0.6067 - loss: 1.1217 - val_accuracy: 0.9171 - val_loss: 0.5537\n",
      "Epoch 54/1000\n",
      "\u001B[1m176/188\u001B[0m \u001B[32m━━━━━━━━━━━━━━━━━━\u001B[0m\u001B[37m━━\u001B[0m \u001B[1m0s\u001B[0m 695us/step - accuracy: 0.6088 - loss: 1.1412\n",
      "Epoch 54: saving model to model/keypoint_classifier/keypoint_classifier.keras\n",
      "\u001B[1m188/188\u001B[0m \u001B[32m━━━━━━━━━━━━━━━━━━━━\u001B[0m\u001B[37m\u001B[0m \u001B[1m0s\u001B[0m 1ms/step - accuracy: 0.6084 - loss: 1.1412 - val_accuracy: 0.9095 - val_loss: 0.5753\n",
      "Epoch 55/1000\n",
      "\u001B[1m158/188\u001B[0m \u001B[32m━━━━━━━━━━━━━━━━\u001B[0m\u001B[37m━━━━\u001B[0m \u001B[1m0s\u001B[0m 726us/step - accuracy: 0.6104 - loss: 1.1151\n",
      "Epoch 55: saving model to model/keypoint_classifier/keypoint_classifier.keras\n",
      "\u001B[1m188/188\u001B[0m \u001B[32m━━━━━━━━━━━━━━━━━━━━\u001B[0m\u001B[37m\u001B[0m \u001B[1m0s\u001B[0m 1ms/step - accuracy: 0.6096 - loss: 1.1163 - val_accuracy: 0.9061 - val_loss: 0.5729\n",
      "Epoch 56/1000\n",
      "\u001B[1m175/188\u001B[0m \u001B[32m━━━━━━━━━━━━━━━━━━\u001B[0m\u001B[37m━━\u001B[0m \u001B[1m0s\u001B[0m 668us/step - accuracy: 0.6017 - loss: 1.1412\n",
      "Epoch 56: saving model to model/keypoint_classifier/keypoint_classifier.keras\n",
      "\u001B[1m188/188\u001B[0m \u001B[32m━━━━━━━━━━━━━━━━━━━━\u001B[0m\u001B[37m\u001B[0m \u001B[1m0s\u001B[0m 963us/step - accuracy: 0.6019 - loss: 1.1400 - val_accuracy: 0.9132 - val_loss: 0.5647\n",
      "Epoch 57/1000\n",
      "\u001B[1m 96/188\u001B[0m \u001B[32m━━━━━━━━━━\u001B[0m\u001B[37m━━━━━━━━━━\u001B[0m \u001B[1m0s\u001B[0m 673us/step - accuracy: 0.6025 - loss: 1.1360\n",
      "Epoch 57: saving model to model/keypoint_classifier/keypoint_classifier.keras\n",
      "\u001B[1m188/188\u001B[0m \u001B[32m━━━━━━━━━━━━━━━━━━━━\u001B[0m\u001B[37m\u001B[0m \u001B[1m0s\u001B[0m 972us/step - accuracy: 0.6019 - loss: 1.1361 - val_accuracy: 0.9039 - val_loss: 0.5829\n",
      "Epoch 58/1000\n",
      "\u001B[1m 96/188\u001B[0m \u001B[32m━━━━━━━━━━\u001B[0m\u001B[37m━━━━━━━━━━\u001B[0m \u001B[1m0s\u001B[0m 669us/step - accuracy: 0.6147 - loss: 1.1034\n",
      "Epoch 58: saving model to model/keypoint_classifier/keypoint_classifier.keras\n",
      "\u001B[1m188/188\u001B[0m \u001B[32m━━━━━━━━━━━━━━━━━━━━\u001B[0m\u001B[37m\u001B[0m \u001B[1m0s\u001B[0m 947us/step - accuracy: 0.6136 - loss: 1.1088 - val_accuracy: 0.9080 - val_loss: 0.5689\n",
      "Epoch 59/1000\n",
      "\u001B[1m177/188\u001B[0m \u001B[32m━━━━━━━━━━━━━━━━━━\u001B[0m\u001B[37m━━\u001B[0m \u001B[1m0s\u001B[0m 725us/step - accuracy: 0.6128 - loss: 1.1066\n",
      "Epoch 59: saving model to model/keypoint_classifier/keypoint_classifier.keras\n",
      "\u001B[1m188/188\u001B[0m \u001B[32m━━━━━━━━━━━━━━━━━━━━\u001B[0m\u001B[37m\u001B[0m \u001B[1m0s\u001B[0m 1ms/step - accuracy: 0.6127 - loss: 1.1070 - val_accuracy: 0.8994 - val_loss: 0.5763\n",
      "Epoch 60/1000\n",
      "\u001B[1m180/188\u001B[0m \u001B[32m━━━━━━━━━━━━━━━━━━━\u001B[0m\u001B[37m━\u001B[0m \u001B[1m0s\u001B[0m 711us/step - accuracy: 0.6115 - loss: 1.1053\n",
      "Epoch 60: saving model to model/keypoint_classifier/keypoint_classifier.keras\n",
      "\u001B[1m188/188\u001B[0m \u001B[32m━━━━━━━━━━━━━━━━━━━━\u001B[0m\u001B[37m\u001B[0m \u001B[1m0s\u001B[0m 1ms/step - accuracy: 0.6113 - loss: 1.1058 - val_accuracy: 0.9185 - val_loss: 0.5600\n",
      "Epoch 61/1000\n",
      "\u001B[1m165/188\u001B[0m \u001B[32m━━━━━━━━━━━━━━━━━\u001B[0m\u001B[37m━━━\u001B[0m \u001B[1m0s\u001B[0m 679us/step - accuracy: 0.6100 - loss: 1.0990\n",
      "Epoch 61: saving model to model/keypoint_classifier/keypoint_classifier.keras\n",
      "\u001B[1m188/188\u001B[0m \u001B[32m━━━━━━━━━━━━━━━━━━━━\u001B[0m\u001B[37m\u001B[0m \u001B[1m0s\u001B[0m 1ms/step - accuracy: 0.6101 - loss: 1.1004 - val_accuracy: 0.8951 - val_loss: 0.5847\n",
      "Epoch 62/1000\n",
      "\u001B[1m 90/188\u001B[0m \u001B[32m━━━━━━━━━\u001B[0m\u001B[37m━━━━━━━━━━━\u001B[0m \u001B[1m0s\u001B[0m 645us/step - accuracy: 0.5981 - loss: 1.1159\n",
      "Epoch 62: saving model to model/keypoint_classifier/keypoint_classifier.keras\n",
      "\u001B[1m188/188\u001B[0m \u001B[32m━━━━━━━━━━━━━━━━━━━━\u001B[0m\u001B[37m\u001B[0m \u001B[1m0s\u001B[0m 902us/step - accuracy: 0.6008 - loss: 1.1137 - val_accuracy: 0.9049 - val_loss: 0.5655\n",
      "Epoch 63/1000\n",
      "\u001B[1m169/188\u001B[0m \u001B[32m━━━━━━━━━━━━━━━━━\u001B[0m\u001B[37m━━━\u001B[0m \u001B[1m0s\u001B[0m 679us/step - accuracy: 0.6080 - loss: 1.0994\n",
      "Epoch 63: saving model to model/keypoint_classifier/keypoint_classifier.keras\n",
      "\u001B[1m188/188\u001B[0m \u001B[32m━━━━━━━━━━━━━━━━━━━━\u001B[0m\u001B[37m\u001B[0m \u001B[1m0s\u001B[0m 1ms/step - accuracy: 0.6080 - loss: 1.1003 - val_accuracy: 0.8920 - val_loss: 0.5745\n",
      "Epoch 64/1000\n",
      "\u001B[1m188/188\u001B[0m \u001B[32m━━━━━━━━━━━━━━━━━━━━\u001B[0m\u001B[37m\u001B[0m \u001B[1m0s\u001B[0m 676us/step - accuracy: 0.6132 - loss: 1.1019\n",
      "Epoch 64: saving model to model/keypoint_classifier/keypoint_classifier.keras\n",
      "\u001B[1m188/188\u001B[0m \u001B[32m━━━━━━━━━━━━━━━━━━━━\u001B[0m\u001B[37m\u001B[0m \u001B[1m0s\u001B[0m 1ms/step - accuracy: 0.6133 - loss: 1.1018 - val_accuracy: 0.9009 - val_loss: 0.5554\n",
      "Epoch 65/1000\n",
      "\u001B[1m161/188\u001B[0m \u001B[32m━━━━━━━━━━━━━━━━━\u001B[0m\u001B[37m━━━\u001B[0m \u001B[1m0s\u001B[0m 696us/step - accuracy: 0.6104 - loss: 1.1089\n",
      "Epoch 65: saving model to model/keypoint_classifier/keypoint_classifier.keras\n",
      "\u001B[1m188/188\u001B[0m \u001B[32m━━━━━━━━━━━━━━━━━━━━\u001B[0m\u001B[37m\u001B[0m \u001B[1m0s\u001B[0m 1ms/step - accuracy: 0.6107 - loss: 1.1077 - val_accuracy: 0.9070 - val_loss: 0.5676\n",
      "Epoch 66/1000\n",
      "\u001B[1m184/188\u001B[0m \u001B[32m━━━━━━━━━━━━━━━━━━━\u001B[0m\u001B[37m━\u001B[0m \u001B[1m0s\u001B[0m 662us/step - accuracy: 0.6151 - loss: 1.1056\n",
      "Epoch 66: saving model to model/keypoint_classifier/keypoint_classifier.keras\n",
      "\u001B[1m188/188\u001B[0m \u001B[32m━━━━━━━━━━━━━━━━━━━━\u001B[0m\u001B[37m\u001B[0m \u001B[1m0s\u001B[0m 932us/step - accuracy: 0.6150 - loss: 1.1056 - val_accuracy: 0.9079 - val_loss: 0.5422\n",
      "Epoch 67/1000\n",
      "\u001B[1m171/188\u001B[0m \u001B[32m━━━━━━━━━━━━━━━━━━\u001B[0m\u001B[37m━━\u001B[0m \u001B[1m0s\u001B[0m 679us/step - accuracy: 0.6164 - loss: 1.0902\n",
      "Epoch 67: saving model to model/keypoint_classifier/keypoint_classifier.keras\n",
      "\u001B[1m188/188\u001B[0m \u001B[32m━━━━━━━━━━━━━━━━━━━━\u001B[0m\u001B[37m\u001B[0m \u001B[1m0s\u001B[0m 1ms/step - accuracy: 0.6166 - loss: 1.0899 - val_accuracy: 0.9027 - val_loss: 0.5594\n",
      "Epoch 68/1000\n",
      "\u001B[1m162/188\u001B[0m \u001B[32m━━━━━━━━━━━━━━━━━\u001B[0m\u001B[37m━━━\u001B[0m \u001B[1m0s\u001B[0m 707us/step - accuracy: 0.6156 - loss: 1.1015\n",
      "Epoch 68: saving model to model/keypoint_classifier/keypoint_classifier.keras\n",
      "\u001B[1m188/188\u001B[0m \u001B[32m━━━━━━━━━━━━━━━━━━━━\u001B[0m\u001B[37m\u001B[0m \u001B[1m0s\u001B[0m 1ms/step - accuracy: 0.6150 - loss: 1.1011 - val_accuracy: 0.8993 - val_loss: 0.5616\n",
      "Epoch 69/1000\n",
      "\u001B[1m165/188\u001B[0m \u001B[32m━━━━━━━━━━━━━━━━━\u001B[0m\u001B[37m━━━\u001B[0m \u001B[1m0s\u001B[0m 680us/step - accuracy: 0.6146 - loss: 1.0861\n",
      "Epoch 69: saving model to model/keypoint_classifier/keypoint_classifier.keras\n",
      "\u001B[1m188/188\u001B[0m \u001B[32m━━━━━━━━━━━━━━━━━━━━\u001B[0m\u001B[37m\u001B[0m \u001B[1m0s\u001B[0m 936us/step - accuracy: 0.6148 - loss: 1.0874 - val_accuracy: 0.8860 - val_loss: 0.5857\n",
      "Epoch 70/1000\n",
      "\u001B[1m 90/188\u001B[0m \u001B[32m━━━━━━━━━\u001B[0m\u001B[37m━━━━━━━━━━━\u001B[0m \u001B[1m0s\u001B[0m 712us/step - accuracy: 0.6151 - loss: 1.1078\n",
      "Epoch 70: saving model to model/keypoint_classifier/keypoint_classifier.keras\n",
      "\u001B[1m188/188\u001B[0m \u001B[32m━━━━━━━━━━━━━━━━━━━━\u001B[0m\u001B[37m\u001B[0m \u001B[1m0s\u001B[0m 936us/step - accuracy: 0.6159 - loss: 1.0997 - val_accuracy: 0.8921 - val_loss: 0.5660\n",
      "Epoch 71/1000\n",
      "\u001B[1m142/188\u001B[0m \u001B[32m━━━━━━━━━━━━━━━\u001B[0m\u001B[37m━━━━━\u001B[0m \u001B[1m0s\u001B[0m 785us/step - accuracy: 0.6133 - loss: 1.0929\n",
      "Epoch 71: saving model to model/keypoint_classifier/keypoint_classifier.keras\n",
      "\u001B[1m188/188\u001B[0m \u001B[32m━━━━━━━━━━━━━━━━━━━━\u001B[0m\u001B[37m\u001B[0m \u001B[1m0s\u001B[0m 1ms/step - accuracy: 0.6148 - loss: 1.0906 - val_accuracy: 0.8961 - val_loss: 0.5740\n",
      "Epoch 72/1000\n",
      "\u001B[1m161/188\u001B[0m \u001B[32m━━━━━━━━━━━━━━━━━\u001B[0m\u001B[37m━━━\u001B[0m \u001B[1m0s\u001B[0m 738us/step - accuracy: 0.6218 - loss: 1.0696\n",
      "Epoch 72: saving model to model/keypoint_classifier/keypoint_classifier.keras\n",
      "\u001B[1m188/188\u001B[0m \u001B[32m━━━━━━━━━━━━━━━━━━━━\u001B[0m\u001B[37m\u001B[0m \u001B[1m0s\u001B[0m 1ms/step - accuracy: 0.6216 - loss: 1.0704 - val_accuracy: 0.8901 - val_loss: 0.5483\n",
      "Epoch 73/1000\n",
      "\u001B[1m 93/188\u001B[0m \u001B[32m━━━━━━━━━\u001B[0m\u001B[37m━━━━━━━━━━━\u001B[0m \u001B[1m0s\u001B[0m 686us/step - accuracy: 0.6145 - loss: 1.0840\n",
      "Epoch 73: saving model to model/keypoint_classifier/keypoint_classifier.keras\n",
      "\u001B[1m188/188\u001B[0m \u001B[32m━━━━━━━━━━━━━━━━━━━━\u001B[0m\u001B[37m\u001B[0m \u001B[1m0s\u001B[0m 1ms/step - accuracy: 0.6163 - loss: 1.0867 - val_accuracy: 0.8667 - val_loss: 0.5785\n",
      "Epoch 74/1000\n",
      "\u001B[1m152/188\u001B[0m \u001B[32m━━━━━━━━━━━━━━━━\u001B[0m\u001B[37m━━━━\u001B[0m \u001B[1m0s\u001B[0m 757us/step - accuracy: 0.6106 - loss: 1.1025\n",
      "Epoch 74: saving model to model/keypoint_classifier/keypoint_classifier.keras\n",
      "\u001B[1m188/188\u001B[0m \u001B[32m━━━━━━━━━━━━━━━━━━━━\u001B[0m\u001B[37m\u001B[0m \u001B[1m0s\u001B[0m 1ms/step - accuracy: 0.6115 - loss: 1.0984 - val_accuracy: 0.8762 - val_loss: 0.5666\n",
      "Epoch 75/1000\n",
      "\u001B[1m 99/188\u001B[0m \u001B[32m━━━━━━━━━━\u001B[0m\u001B[37m━━━━━━━━━━\u001B[0m \u001B[1m0s\u001B[0m 649us/step - accuracy: 0.6159 - loss: 1.0942\n",
      "Epoch 75: saving model to model/keypoint_classifier/keypoint_classifier.keras\n",
      "\u001B[1m188/188\u001B[0m \u001B[32m━━━━━━━━━━━━━━━━━━━━\u001B[0m\u001B[37m\u001B[0m \u001B[1m0s\u001B[0m 948us/step - accuracy: 0.6174 - loss: 1.0870 - val_accuracy: 0.8788 - val_loss: 0.5562\n",
      "Epoch 76/1000\n",
      "\u001B[1m173/188\u001B[0m \u001B[32m━━━━━━━━━━━━━━━━━━\u001B[0m\u001B[37m━━\u001B[0m \u001B[1m0s\u001B[0m 642us/step - accuracy: 0.6178 - loss: 1.0821\n",
      "Epoch 76: saving model to model/keypoint_classifier/keypoint_classifier.keras\n",
      "\u001B[1m188/188\u001B[0m \u001B[32m━━━━━━━━━━━━━━━━━━━━\u001B[0m\u001B[37m\u001B[0m \u001B[1m0s\u001B[0m 973us/step - accuracy: 0.6181 - loss: 1.0815 - val_accuracy: 0.8789 - val_loss: 0.5771\n",
      "Epoch 77/1000\n",
      "\u001B[1m175/188\u001B[0m \u001B[32m━━━━━━━━━━━━━━━━━━\u001B[0m\u001B[37m━━\u001B[0m \u001B[1m0s\u001B[0m 639us/step - accuracy: 0.6224 - loss: 1.0823\n",
      "Epoch 77: saving model to model/keypoint_classifier/keypoint_classifier.keras\n",
      "\u001B[1m188/188\u001B[0m \u001B[32m━━━━━━━━━━━━━━━━━━━━\u001B[0m\u001B[37m\u001B[0m \u001B[1m0s\u001B[0m 964us/step - accuracy: 0.6224 - loss: 1.0817 - val_accuracy: 0.8918 - val_loss: 0.5592\n",
      "Epoch 78/1000\n",
      "\u001B[1m165/188\u001B[0m \u001B[32m━━━━━━━━━━━━━━━━━\u001B[0m\u001B[37m━━━\u001B[0m \u001B[1m0s\u001B[0m 672us/step - accuracy: 0.6204 - loss: 1.0789\n",
      "Epoch 78: saving model to model/keypoint_classifier/keypoint_classifier.keras\n",
      "\u001B[1m188/188\u001B[0m \u001B[32m━━━━━━━━━━━━━━━━━━━━\u001B[0m\u001B[37m\u001B[0m \u001B[1m0s\u001B[0m 994us/step - accuracy: 0.6202 - loss: 1.0788 - val_accuracy: 0.8823 - val_loss: 0.5576\n",
      "Epoch 79/1000\n",
      "\u001B[1m178/188\u001B[0m \u001B[32m━━━━━━━━━━━━━━━━━━\u001B[0m\u001B[37m━━\u001B[0m \u001B[1m0s\u001B[0m 711us/step - accuracy: 0.6156 - loss: 1.0872\n",
      "Epoch 79: saving model to model/keypoint_classifier/keypoint_classifier.keras\n",
      "\u001B[1m188/188\u001B[0m \u001B[32m━━━━━━━━━━━━━━━━━━━━\u001B[0m\u001B[37m\u001B[0m \u001B[1m0s\u001B[0m 1ms/step - accuracy: 0.6161 - loss: 1.0869 - val_accuracy: 0.8739 - val_loss: 0.5831\n",
      "Epoch 80/1000\n",
      "\u001B[1m176/188\u001B[0m \u001B[32m━━━━━━━━━━━━━━━━━━\u001B[0m\u001B[37m━━\u001B[0m \u001B[1m0s\u001B[0m 650us/step - accuracy: 0.6201 - loss: 1.0815\n",
      "Epoch 80: saving model to model/keypoint_classifier/keypoint_classifier.keras\n",
      "\u001B[1m188/188\u001B[0m \u001B[32m━━━━━━━━━━━━━━━━━━━━\u001B[0m\u001B[37m\u001B[0m \u001B[1m0s\u001B[0m 961us/step - accuracy: 0.6204 - loss: 1.0812 - val_accuracy: 0.8826 - val_loss: 0.5504\n",
      "Epoch 81/1000\n",
      "\u001B[1m178/188\u001B[0m \u001B[32m━━━━━━━━━━━━━━━━━━\u001B[0m\u001B[37m━━\u001B[0m \u001B[1m0s\u001B[0m 695us/step - accuracy: 0.6229 - loss: 1.0798\n",
      "Epoch 81: saving model to model/keypoint_classifier/keypoint_classifier.keras\n",
      "\u001B[1m188/188\u001B[0m \u001B[32m━━━━━━━━━━━━━━━━━━━━\u001B[0m\u001B[37m\u001B[0m \u001B[1m0s\u001B[0m 998us/step - accuracy: 0.6228 - loss: 1.0799 - val_accuracy: 0.8614 - val_loss: 0.5858\n",
      "Epoch 82/1000\n",
      "\u001B[1m177/188\u001B[0m \u001B[32m━━━━━━━━━━━━━━━━━━\u001B[0m\u001B[37m━━\u001B[0m \u001B[1m0s\u001B[0m 678us/step - accuracy: 0.6301 - loss: 1.0641\n",
      "Epoch 82: saving model to model/keypoint_classifier/keypoint_classifier.keras\n",
      "\u001B[1m188/188\u001B[0m \u001B[32m━━━━━━━━━━━━━━━━━━━━\u001B[0m\u001B[37m\u001B[0m \u001B[1m0s\u001B[0m 995us/step - accuracy: 0.6298 - loss: 1.0647 - val_accuracy: 0.8643 - val_loss: 0.5755\n",
      "Epoch 83/1000\n",
      "\u001B[1m166/188\u001B[0m \u001B[32m━━━━━━━━━━━━━━━━━\u001B[0m\u001B[37m━━━\u001B[0m \u001B[1m0s\u001B[0m 712us/step - accuracy: 0.6297 - loss: 1.0537\n",
      "Epoch 83: saving model to model/keypoint_classifier/keypoint_classifier.keras\n",
      "\u001B[1m188/188\u001B[0m \u001B[32m━━━━━━━━━━━━━━━━━━━━\u001B[0m\u001B[37m\u001B[0m \u001B[1m0s\u001B[0m 1ms/step - accuracy: 0.6300 - loss: 1.0528 - val_accuracy: 0.8223 - val_loss: 0.5973\n",
      "Epoch 84/1000\n",
      "\u001B[1m163/188\u001B[0m \u001B[32m━━━━━━━━━━━━━━━━━\u001B[0m\u001B[37m━━━\u001B[0m \u001B[1m0s\u001B[0m 638us/step - accuracy: 0.6317 - loss: 1.0714\n",
      "Epoch 84: saving model to model/keypoint_classifier/keypoint_classifier.keras\n",
      "\u001B[1m188/188\u001B[0m \u001B[32m━━━━━━━━━━━━━━━━━━━━\u001B[0m\u001B[37m\u001B[0m \u001B[1m0s\u001B[0m 966us/step - accuracy: 0.6316 - loss: 1.0709 - val_accuracy: 0.8677 - val_loss: 0.5664\n",
      "Epoch 85/1000\n",
      "\u001B[1m182/188\u001B[0m \u001B[32m━━━━━━━━━━━━━━━━━━━\u001B[0m\u001B[37m━\u001B[0m \u001B[1m0s\u001B[0m 693us/step - accuracy: 0.6316 - loss: 1.0475\n",
      "Epoch 85: saving model to model/keypoint_classifier/keypoint_classifier.keras\n",
      "\u001B[1m188/188\u001B[0m \u001B[32m━━━━━━━━━━━━━━━━━━━━\u001B[0m\u001B[37m\u001B[0m \u001B[1m0s\u001B[0m 1ms/step - accuracy: 0.6313 - loss: 1.0481 - val_accuracy: 0.8496 - val_loss: 0.5700\n",
      "Epoch 86/1000\n",
      "\u001B[1m170/188\u001B[0m \u001B[32m━━━━━━━━━━━━━━━━━━\u001B[0m\u001B[37m━━\u001B[0m \u001B[1m0s\u001B[0m 765us/step - accuracy: 0.6229 - loss: 1.0742\n",
      "Epoch 86: saving model to model/keypoint_classifier/keypoint_classifier.keras\n",
      "\u001B[1m188/188\u001B[0m \u001B[32m━━━━━━━━━━━━━━━━━━━━\u001B[0m\u001B[37m\u001B[0m \u001B[1m0s\u001B[0m 1ms/step - accuracy: 0.6232 - loss: 1.0736 - val_accuracy: 0.8492 - val_loss: 0.5733\n",
      "Epoch 86: early stopping\n"
     ]
    },
    {
     "data": {
      "text/plain": [
       "<keras.src.callbacks.history.History at 0x2638415a6d0>"
      ]
     },
     "execution_count": 608,
     "metadata": {},
     "output_type": "execute_result"
    }
   ],
   "execution_count": 608
  },
  {
   "cell_type": "code",
   "metadata": {
    "id": "pxvb2Y299hE3",
    "colab": {
     "base_uri": "https://localhost:8080/"
    },
    "outputId": "59eb3185-2e37-4b9e-bc9d-ab1b8ac29b7f",
    "ExecuteTime": {
     "end_time": "2025-02-09T09:26:25.038094Z",
     "start_time": "2025-02-09T09:26:24.946708Z"
    }
   },
   "source": [
    "# Model evaluation\n",
    "val_loss, val_acc = model.evaluate(X_test, y_test, batch_size=128)"
   ],
   "outputs": [
    {
     "name": "stdout",
     "output_type": "stream",
     "text": [
      "\u001B[1m63/63\u001B[0m \u001B[32m━━━━━━━━━━━━━━━━━━━━\u001B[0m\u001B[37m\u001B[0m \u001B[1m0s\u001B[0m 510us/step - accuracy: 0.8519 - loss: 0.5634\n"
     ]
    }
   ],
   "execution_count": 609
  },
  {
   "cell_type": "code",
   "metadata": {
    "id": "RBkmDeUW9hE4",
    "ExecuteTime": {
     "end_time": "2025-02-09T09:26:25.133492Z",
     "start_time": "2025-02-09T09:26:25.045959Z"
    }
   },
   "source": [
    "# Loading the saved model\n",
    "model = tf.keras.models.load_model(\"model/keypoint_classifier/keypoint_classifier.keras\")"
   ],
   "outputs": [],
   "execution_count": 610
  },
  {
   "cell_type": "code",
   "metadata": {
    "id": "tFz9Tb0I9hE4",
    "colab": {
     "base_uri": "https://localhost:8080/"
    },
    "outputId": "1c3b3528-54ae-4ee2-ab04-77429211cbef",
    "ExecuteTime": {
     "end_time": "2025-02-09T09:26:25.206951Z",
     "start_time": "2025-02-09T09:26:25.141832Z"
    }
   },
   "source": [
    "# Inference test\n",
    "predict_result = model.predict(np.array([X_test[0]]))\n",
    "print(np.squeeze(predict_result))\n",
    "print(np.argmax(np.squeeze(predict_result)))"
   ],
   "outputs": [
    {
     "name": "stdout",
     "output_type": "stream",
     "text": [
      "\u001B[1m1/1\u001B[0m \u001B[32m━━━━━━━━━━━━━━━━━━━━\u001B[0m\u001B[37m\u001B[0m \u001B[1m0s\u001B[0m 20ms/step\n",
      "[1.6632607e-02 1.7153833e-06 9.4392387e-09 1.9099802e-21 5.9840642e-07\n",
      " 1.1551246e-07 5.4957963e-09 2.6654052e-06 5.9942255e-07 8.7680000e-01\n",
      " 3.6654255e-21 4.8212599e-19 9.7596363e-14 1.8829989e-10 9.6054934e-02\n",
      " 2.8590458e-07 4.2953294e-11 2.0522686e-22 1.0014130e-02 2.7042479e-05\n",
      " 2.3505783e-22 1.4596651e-27 6.2209135e-14 3.0275935e-19 4.6528710e-04\n",
      " 8.8978839e-14]\n",
      "9\n"
     ]
    }
   ],
   "execution_count": 611
  },
  {
   "cell_type": "code",
   "source": [
    "!pip install pandas\n",
    "!pip install seaborn"
   ],
   "metadata": {
    "collapsed": false,
    "ExecuteTime": {
     "end_time": "2025-02-09T09:26:28.198970Z",
     "start_time": "2025-02-09T09:26:25.218445Z"
    }
   },
   "outputs": [
    {
     "name": "stdout",
     "output_type": "stream",
     "text": [
      "Requirement already satisfied: pandas in c:\\users\\jehan colao\\pycharmprojects\\training01-asl\\.venv\\lib\\site-packages (2.2.3)\n",
      "Requirement already satisfied: numpy>=1.23.2 in c:\\users\\jehan colao\\pycharmprojects\\training01-asl\\.venv\\lib\\site-packages (from pandas) (1.26.4)\n",
      "Requirement already satisfied: python-dateutil>=2.8.2 in c:\\users\\jehan colao\\pycharmprojects\\training01-asl\\.venv\\lib\\site-packages (from pandas) (2.9.0.post0)\n",
      "Requirement already satisfied: pytz>=2020.1 in c:\\users\\jehan colao\\pycharmprojects\\training01-asl\\.venv\\lib\\site-packages (from pandas) (2024.2)\n",
      "Requirement already satisfied: tzdata>=2022.7 in c:\\users\\jehan colao\\pycharmprojects\\training01-asl\\.venv\\lib\\site-packages (from pandas) (2024.2)\n",
      "Requirement already satisfied: six>=1.5 in c:\\users\\jehan colao\\pycharmprojects\\training01-asl\\.venv\\lib\\site-packages (from python-dateutil>=2.8.2->pandas) (1.16.0)\n"
     ]
    },
    {
     "name": "stderr",
     "output_type": "stream",
     "text": [
      "\n",
      "[notice] A new release of pip is available: 23.2.1 -> 25.0\n",
      "[notice] To update, run: python.exe -m pip install --upgrade pip\n"
     ]
    },
    {
     "name": "stdout",
     "output_type": "stream",
     "text": [
      "Requirement already satisfied: seaborn in c:\\users\\jehan colao\\pycharmprojects\\training01-asl\\.venv\\lib\\site-packages (0.13.2)\n",
      "Requirement already satisfied: numpy!=1.24.0,>=1.20 in c:\\users\\jehan colao\\pycharmprojects\\training01-asl\\.venv\\lib\\site-packages (from seaborn) (1.26.4)\n",
      "Requirement already satisfied: pandas>=1.2 in c:\\users\\jehan colao\\pycharmprojects\\training01-asl\\.venv\\lib\\site-packages (from seaborn) (2.2.3)\n",
      "Requirement already satisfied: matplotlib!=3.6.1,>=3.4 in c:\\users\\jehan colao\\pycharmprojects\\training01-asl\\.venv\\lib\\site-packages (from seaborn) (3.9.2)\n",
      "Requirement already satisfied: contourpy>=1.0.1 in c:\\users\\jehan colao\\pycharmprojects\\training01-asl\\.venv\\lib\\site-packages (from matplotlib!=3.6.1,>=3.4->seaborn) (1.3.1)\n",
      "Requirement already satisfied: cycler>=0.10 in c:\\users\\jehan colao\\pycharmprojects\\training01-asl\\.venv\\lib\\site-packages (from matplotlib!=3.6.1,>=3.4->seaborn) (0.12.1)\n",
      "Requirement already satisfied: fonttools>=4.22.0 in c:\\users\\jehan colao\\pycharmprojects\\training01-asl\\.venv\\lib\\site-packages (from matplotlib!=3.6.1,>=3.4->seaborn) (4.55.0)\n",
      "Requirement already satisfied: kiwisolver>=1.3.1 in c:\\users\\jehan colao\\pycharmprojects\\training01-asl\\.venv\\lib\\site-packages (from matplotlib!=3.6.1,>=3.4->seaborn) (1.4.7)\n",
      "Requirement already satisfied: packaging>=20.0 in c:\\users\\jehan colao\\pycharmprojects\\training01-asl\\.venv\\lib\\site-packages (from matplotlib!=3.6.1,>=3.4->seaborn) (24.2)\n",
      "Requirement already satisfied: pillow>=8 in c:\\users\\jehan colao\\pycharmprojects\\training01-asl\\.venv\\lib\\site-packages (from matplotlib!=3.6.1,>=3.4->seaborn) (11.0.0)\n",
      "Requirement already satisfied: pyparsing>=2.3.1 in c:\\users\\jehan colao\\pycharmprojects\\training01-asl\\.venv\\lib\\site-packages (from matplotlib!=3.6.1,>=3.4->seaborn) (3.2.0)\n",
      "Requirement already satisfied: python-dateutil>=2.7 in c:\\users\\jehan colao\\pycharmprojects\\training01-asl\\.venv\\lib\\site-packages (from matplotlib!=3.6.1,>=3.4->seaborn) (2.9.0.post0)\n",
      "Requirement already satisfied: pytz>=2020.1 in c:\\users\\jehan colao\\pycharmprojects\\training01-asl\\.venv\\lib\\site-packages (from pandas>=1.2->seaborn) (2024.2)\n",
      "Requirement already satisfied: tzdata>=2022.7 in c:\\users\\jehan colao\\pycharmprojects\\training01-asl\\.venv\\lib\\site-packages (from pandas>=1.2->seaborn) (2024.2)\n",
      "Requirement already satisfied: six>=1.5 in c:\\users\\jehan colao\\pycharmprojects\\training01-asl\\.venv\\lib\\site-packages (from python-dateutil>=2.7->matplotlib!=3.6.1,>=3.4->seaborn) (1.16.0)\n"
     ]
    },
    {
     "name": "stderr",
     "output_type": "stream",
     "text": [
      "\n",
      "[notice] A new release of pip is available: 23.2.1 -> 25.0\n",
      "[notice] To update, run: python.exe -m pip install --upgrade pip\n"
     ]
    }
   ],
   "execution_count": 612
  },
  {
   "cell_type": "markdown",
   "metadata": {
    "id": "S3U4yNWx9hE4"
   },
   "source": [
    "# Confusion matrix"
   ]
  },
  {
   "cell_type": "code",
   "metadata": {
    "id": "AP1V6SCk9hE5",
    "colab": {
     "base_uri": "https://localhost:8080/",
     "height": 582
    },
    "outputId": "08e41a80-7a4a-4619-8125-ecc371368d19",
    "ExecuteTime": {
     "end_time": "2025-02-09T09:26:28.945052Z",
     "start_time": "2025-02-09T09:26:28.214965Z"
    }
   },
   "source": [
    "import pandas as pd\n",
    "import seaborn as sns\n",
    "import matplotlib.pyplot as plt\n",
    "from sklearn.metrics import confusion_matrix, classification_report\n",
    "\n",
    "def print_confusion_matrix(y_true, y_pred, report=True):\n",
    "    labels = sorted(list(set(y_true)))\n",
    "    cmx_data = confusion_matrix(y_true, y_pred, labels=labels)\n",
    "    \n",
    "    df_cmx = pd.DataFrame(cmx_data, index=labels, columns=labels)\n",
    " \n",
    "    fig, ax = plt.subplots(figsize=(7, 6))\n",
    "    sns.heatmap(df_cmx, annot=True, fmt='g' ,square=False)\n",
    "    ax.set_ylim(len(set(y_true)), 0)\n",
    "    plt.show()\n",
    "    \n",
    "    if report:\n",
    "        print('Classification Report')\n",
    "        print(classification_report(y_test, y_pred))\n",
    "\n",
    "Y_pred = model.predict(X_test)\n",
    "y_pred = np.argmax(Y_pred, axis=1)\n",
    "\n",
    "print_confusion_matrix(y_test, y_pred)"
   ],
   "outputs": [
    {
     "name": "stdout",
     "output_type": "stream",
     "text": [
      "\u001B[1m251/251\u001B[0m \u001B[32m━━━━━━━━━━━━━━━━━━━━\u001B[0m\u001B[37m\u001B[0m \u001B[1m0s\u001B[0m 507us/step\n"
     ]
    },
    {
     "data": {
      "text/plain": [
       "<Figure size 700x600 with 2 Axes>"
      ],
      "image/png": "[encoded data removed]"
     },
     "metadata": {},
     "output_type": "display_data"
    },
    {
     "name": "stdout",
     "output_type": "stream",
     "text": [
      "Classification Report\n",
      "              precision    recall  f1-score   support\n",
      "\n",
      "           0       0.98      0.83      0.89       288\n",
      "           1       1.00      0.91      0.95       342\n",
      "           2       0.95      0.96      0.95       358\n",
      "           3       0.70      1.00      0.83       365\n",
      "           4       0.65      1.00      0.79       357\n",
      "           5       1.00      1.00      1.00       348\n",
      "           6       1.00      1.00      1.00       348\n",
      "           7       0.99      1.00      0.99       332\n",
      "           8       0.89      1.00      0.94       391\n",
      "           9       1.00      1.00      1.00       345\n",
      "          10       1.00      0.47      0.64       343\n",
      "          11       0.98      1.00      0.99       261\n",
      "          12       0.54      0.96      0.69       307\n",
      "          13       0.86      0.23      0.37       324\n",
      "          14       0.96      1.00      0.98       310\n",
      "          15       0.98      0.96      0.97       289\n",
      "          16       1.00      0.98      0.99       301\n",
      "          17       0.39      1.00      0.56       239\n",
      "          18       1.00      0.46      0.63       328\n",
      "          19       0.89      0.98      0.93       299\n",
      "          20       0.00      0.00      0.00       254\n",
      "          21       0.69      0.49      0.57       261\n",
      "          22       1.00      0.99      1.00       271\n",
      "          23       0.94      0.90      0.92       270\n",
      "          24       0.97      0.80      0.88       236\n",
      "          25       0.96      0.98      0.97       243\n",
      "\n",
      "    accuracy                           0.85      8010\n",
      "   macro avg       0.86      0.84      0.82      8010\n",
      "weighted avg       0.87      0.85      0.83      8010\n",
      "\n"
     ]
    },
    {
     "name": "stderr",
     "output_type": "stream",
     "text": [
      "C:\\Users\\Jehan Colao\\PycharmProjects\\training01-asl\\.venv\\Lib\\site-packages\\sklearn\\metrics\\_classification.py:1531: UndefinedMetricWarning: Precision is ill-defined and being set to 0.0 in labels with no predicted samples. Use `zero_division` parameter to control this behavior.\n",
      "  _warn_prf(average, modifier, f\"{metric.capitalize()} is\", len(result))\n",
      "C:\\Users\\Jehan Colao\\PycharmProjects\\training01-asl\\.venv\\Lib\\site-packages\\sklearn\\metrics\\_classification.py:1531: UndefinedMetricWarning: Precision is ill-defined and being set to 0.0 in labels with no predicted samples. Use `zero_division` parameter to control this behavior.\n",
      "  _warn_prf(average, modifier, f\"{metric.capitalize()} is\", len(result))\n",
      "C:\\Users\\Jehan Colao\\PycharmProjects\\training01-asl\\.venv\\Lib\\site-packages\\sklearn\\metrics\\_classification.py:1531: UndefinedMetricWarning: Precision is ill-defined and being set to 0.0 in labels with no predicted samples. Use `zero_division` parameter to control this behavior.\n",
      "  _warn_prf(average, modifier, f\"{metric.capitalize()} is\", len(result))\n"
     ]
    }
   ],
   "execution_count": 613
  },
  {
   "cell_type": "markdown",
   "metadata": {
    "id": "FNP6aqzc9hE5"
   },
   "source": [
    "# Convert to model for Tensorflow-Lite"
   ]
  },
  {
   "cell_type": "code",
   "metadata": {
    "id": "ODjnYyld9hE6",
    "ExecuteTime": {
     "end_time": "2025-02-09T09:26:28.993614Z",
     "start_time": "2025-02-09T09:26:28.956318Z"
    }
   },
   "source": [
    "# Save as a model dedicated to inference\n",
    "model.save(model_save_path, include_optimizer=False)"
   ],
   "outputs": [
    {
     "name": "stderr",
     "output_type": "stream",
     "text": [
      "WARNING:absl:You are saving your model as an HDF5 file via `model.save()` or `keras.saving.save_model(model)`. This file format is considered legacy. We recommend using instead the native Keras format, e.g. `model.save('my_model.keras')` or `keras.saving.save_model(model, 'my_model.keras')`. \n"
     ]
    }
   ],
   "execution_count": 614
  },
  {
   "cell_type": "code",
   "metadata": {
    "id": "zRfuK8Y59hE6",
    "colab": {
     "base_uri": "https://localhost:8080/"
    },
    "outputId": "a4ca585c-b5d5-4244-8291-8674063209bb",
    "ExecuteTime": {
     "end_time": "2025-02-09T09:26:29.306760Z",
     "start_time": "2025-02-09T09:26:29.002457Z"
    }
   },
   "source": [
    "# Transform model (quantization)\n",
    "\n",
    "converter = tf.lite.TFLiteConverter.from_keras_model(model)\n",
    "converter.optimizations = [tf.lite.Optimize.DEFAULT]\n",
    "tflite_quantized_model = converter.convert()\n",
    "\n",
    "open(tflite_save_path, 'wb').write(tflite_quantized_model)"
   ],
   "outputs": [
    {
     "name": "stdout",
     "output_type": "stream",
     "text": [
      "INFO:tensorflow:Assets written to: C:\\Users\\JEHANC~1\\AppData\\Local\\Temp\\tmpp23jrr95\\assets\n"
     ]
    },
    {
     "name": "stderr",
     "output_type": "stream",
     "text": [
      "INFO:tensorflow:Assets written to: C:\\Users\\JEHANC~1\\AppData\\Local\\Temp\\tmpp23jrr95\\assets\n"
     ]
    },
    {
     "name": "stdout",
     "output_type": "stream",
     "text": [
      "Saved artifact at 'C:\\Users\\JEHANC~1\\AppData\\Local\\Temp\\tmpp23jrr95'. The following endpoints are available:\n",
      "\n",
      "* Endpoint 'serve'\n",
      "  args_0 (POSITIONAL_ONLY): TensorSpec(shape=(None, 42), dtype=tf.float32, name='input_layer_27')\n",
      "Output Type:\n",
      "  TensorSpec(shape=(None, 26), dtype=tf.float32, name=None)\n",
      "Captures:\n",
      "  2624689106064: TensorSpec(shape=(), dtype=tf.resource, name=None)\n",
      "  2626426279248: TensorSpec(shape=(), dtype=tf.resource, name=None)\n",
      "  2624351685712: TensorSpec(shape=(), dtype=tf.resource, name=None)\n",
      "  2624374763792: TensorSpec(shape=(), dtype=tf.resource, name=None)\n",
      "  2624374761104: TensorSpec(shape=(), dtype=tf.resource, name=None)\n",
      "  2624374753232: TensorSpec(shape=(), dtype=tf.resource, name=None)\n"
     ]
    },
    {
     "data": {
      "text/plain": [
       "7540"
      ]
     },
     "execution_count": 615,
     "metadata": {},
     "output_type": "execute_result"
    }
   ],
   "execution_count": 615
  },
  {
   "cell_type": "markdown",
   "metadata": {
    "id": "CHBPBXdx9hE6"
   },
   "source": [
    "# Inference test"
   ]
  },
  {
   "cell_type": "code",
   "metadata": {
    "id": "mGAzLocO9hE7",
    "ExecuteTime": {
     "end_time": "2025-02-09T09:26:29.331299Z",
     "start_time": "2025-02-09T09:26:29.315962Z"
    }
   },
   "source": [
    "interpreter = tf.lite.Interpreter(model_path=tflite_save_path)\n",
    "interpreter.allocate_tensors()"
   ],
   "outputs": [],
   "execution_count": 616
  },
  {
   "cell_type": "code",
   "metadata": {
    "id": "oQuDK8YS9hE7",
    "ExecuteTime": {
     "end_time": "2025-02-09T09:26:29.355951Z",
     "start_time": "2025-02-09T09:26:29.341969Z"
    }
   },
   "source": [
    "# Get I / O tensor\n",
    "input_details = interpreter.get_input_details()\n",
    "output_details = interpreter.get_output_details()"
   ],
   "outputs": [],
   "execution_count": 617
  },
  {
   "cell_type": "code",
   "metadata": {
    "id": "2_ixAf_l9hE7",
    "ExecuteTime": {
     "end_time": "2025-02-09T09:26:29.367684Z",
     "start_time": "2025-02-09T09:26:29.364048Z"
    }
   },
   "source": [
    "interpreter.set_tensor(input_details[0]['index'], np.array([X_test[0]]))"
   ],
   "outputs": [],
   "execution_count": 618
  },
  {
   "cell_type": "code",
   "metadata": {
    "scrolled": true,
    "id": "s4FoAnuc9hE7",
    "colab": {
     "base_uri": "https://localhost:8080/"
    },
    "outputId": "91f18257-8d8b-4ef3-c558-e9b5f94fabbf",
    "ExecuteTime": {
     "end_time": "2025-02-09T09:26:29.379322Z",
     "start_time": "2025-02-09T09:26:29.375130Z"
    }
   },
   "source": [
    "%%time\n",
    "# Inference implementation\n",
    "interpreter.invoke()\n",
    "tflite_results = interpreter.get_tensor(output_details[0]['index'])"
   ],
   "outputs": [
    {
     "name": "stdout",
     "output_type": "stream",
     "text": [
      "CPU times: total: 0 ns\n",
      "Wall time: 0 ns\n"
     ]
    }
   ],
   "execution_count": 619
  },
  {
   "cell_type": "code",
   "metadata": {
    "id": "vONjp19J9hE8",
    "colab": {
     "base_uri": "https://localhost:8080/"
    },
    "outputId": "77205e24-fd00-42c4-f7b6-e06e527c2cba",
    "ExecuteTime": {
     "end_time": "2025-02-09T09:26:29.391333Z",
     "start_time": "2025-02-09T09:26:29.387360Z"
    }
   },
   "source": [
    "print(np.squeeze(tflite_results))\n",
    "print(np.argmax(np.squeeze(tflite_results)))"
   ],
   "outputs": [
    {
     "name": "stdout",
     "output_type": "stream",
     "text": [
      "[1.6632613e-02 1.7153830e-06 9.4392547e-09 1.9099798e-21 5.9840585e-07\n",
      " 1.1551266e-07 5.4957954e-09 2.6654152e-06 5.9942306e-07 8.7679994e-01\n",
      " 3.6653968e-21 4.8212589e-19 9.7596349e-14 1.8829986e-10 9.6054912e-02\n",
      " 2.8590455e-07 4.2953453e-11 2.0522605e-22 1.0014120e-02 2.7042477e-05\n",
      " 2.3505781e-22 1.4596646e-27 6.2209244e-14 3.0275927e-19 4.6528821e-04\n",
      " 8.8978995e-14]\n",
      "9\n"
     ]
    }
   ],
   "execution_count": 620
  }
 ]
}
